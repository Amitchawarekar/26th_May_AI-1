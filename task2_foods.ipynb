{
 "cells": [
  {
   "cell_type": "markdown",
   "metadata": {},
   "source": [
    "## Task 2 "
   ]
  },
  {
   "cell_type": "code",
   "execution_count": 1,
   "metadata": {},
   "outputs": [],
   "source": [
    "import numpy as np\n",
    "import pandas as pd"
   ]
  },
  {
   "cell_type": "code",
   "execution_count": 2,
   "metadata": {},
   "outputs": [],
   "source": [
    "foods=pd.read_excel('foods_task2.xlsx')"
   ]
  },
  {
   "cell_type": "code",
   "execution_count": 6,
   "metadata": {},
   "outputs": [
    {
     "data": {
      "text/html": [
       "<div>\n",
       "<style scoped>\n",
       "    .dataframe tbody tr th:only-of-type {\n",
       "        vertical-align: middle;\n",
       "    }\n",
       "\n",
       "    .dataframe tbody tr th {\n",
       "        vertical-align: top;\n",
       "    }\n",
       "\n",
       "    .dataframe thead th {\n",
       "        text-align: right;\n",
       "    }\n",
       "</style>\n",
       "<table border=\"1\" class=\"dataframe\">\n",
       "  <thead>\n",
       "    <tr style=\"text-align: right;\">\n",
       "      <th></th>\n",
       "      <th>Food Name</th>\n",
       "      <th>Price</th>\n",
       "      <th>City</th>\n",
       "      <th>Color</th>\n",
       "      <th>Cuisine</th>\n",
       "      <th>Taste</th>\n",
       "    </tr>\n",
       "  </thead>\n",
       "  <tbody>\n",
       "    <tr>\n",
       "      <th>0</th>\n",
       "      <td>Misal</td>\n",
       "      <td>80</td>\n",
       "      <td>Pune</td>\n",
       "      <td>red</td>\n",
       "      <td>Maharashtrian</td>\n",
       "      <td>spicy</td>\n",
       "    </tr>\n",
       "    <tr>\n",
       "      <th>1</th>\n",
       "      <td>Dhokla</td>\n",
       "      <td>30</td>\n",
       "      <td>Vadodra</td>\n",
       "      <td>yellow</td>\n",
       "      <td>gujrati</td>\n",
       "      <td>Sweet and spicy</td>\n",
       "    </tr>\n",
       "    <tr>\n",
       "      <th>2</th>\n",
       "      <td>Masala Dosa</td>\n",
       "      <td>70</td>\n",
       "      <td>Chennai</td>\n",
       "      <td>brown</td>\n",
       "      <td>South Indian</td>\n",
       "      <td>spicy</td>\n",
       "    </tr>\n",
       "    <tr>\n",
       "      <th>3</th>\n",
       "      <td>Rosogulla</td>\n",
       "      <td>120</td>\n",
       "      <td>Calcutta</td>\n",
       "      <td>white</td>\n",
       "      <td>Bengali</td>\n",
       "      <td>Sweet</td>\n",
       "    </tr>\n",
       "    <tr>\n",
       "      <th>4</th>\n",
       "      <td>Chole Bhature</td>\n",
       "      <td>100</td>\n",
       "      <td>Delhi</td>\n",
       "      <td>yellow</td>\n",
       "      <td>North Indian</td>\n",
       "      <td>Spicy</td>\n",
       "    </tr>\n",
       "    <tr>\n",
       "      <th>5</th>\n",
       "      <td>Bharit Bhakri</td>\n",
       "      <td>90</td>\n",
       "      <td>Jalgaon</td>\n",
       "      <td>Grey and red</td>\n",
       "      <td>Maharashtrian</td>\n",
       "      <td>Spicy</td>\n",
       "    </tr>\n",
       "    <tr>\n",
       "      <th>6</th>\n",
       "      <td>Namkeen</td>\n",
       "      <td>150</td>\n",
       "      <td>Indore</td>\n",
       "      <td>Orange</td>\n",
       "      <td>M.P</td>\n",
       "      <td>Spicy</td>\n",
       "    </tr>\n",
       "    <tr>\n",
       "      <th>7</th>\n",
       "      <td>Vada Pav</td>\n",
       "      <td>20</td>\n",
       "      <td>Mumbai</td>\n",
       "      <td>yellow</td>\n",
       "      <td>Maharashtrain</td>\n",
       "      <td>Spicy</td>\n",
       "    </tr>\n",
       "    <tr>\n",
       "      <th>8</th>\n",
       "      <td>lassi</td>\n",
       "      <td>50</td>\n",
       "      <td>Amritsar</td>\n",
       "      <td>white</td>\n",
       "      <td>Punjabi</td>\n",
       "      <td>Sweet and sour</td>\n",
       "    </tr>\n",
       "    <tr>\n",
       "      <th>9</th>\n",
       "      <td>Momos</td>\n",
       "      <td>150</td>\n",
       "      <td>Shillong</td>\n",
       "      <td>White</td>\n",
       "      <td>North-east</td>\n",
       "      <td>Spicy</td>\n",
       "    </tr>\n",
       "    <tr>\n",
       "      <th>10</th>\n",
       "      <td>Noodles</td>\n",
       "      <td>130</td>\n",
       "      <td>Jaipur</td>\n",
       "      <td>Yellow</td>\n",
       "      <td>Chinese</td>\n",
       "      <td>Spicy</td>\n",
       "    </tr>\n",
       "    <tr>\n",
       "      <th>11</th>\n",
       "      <td>Ghevar</td>\n",
       "      <td>200</td>\n",
       "      <td>Udaipur</td>\n",
       "      <td>brown</td>\n",
       "      <td>Rajasthani</td>\n",
       "      <td>Sweet</td>\n",
       "    </tr>\n",
       "    <tr>\n",
       "      <th>12</th>\n",
       "      <td>Bakarvadi</td>\n",
       "      <td>70</td>\n",
       "      <td>Pune</td>\n",
       "      <td>brown</td>\n",
       "      <td>maharashtrain</td>\n",
       "      <td>Crunchy</td>\n",
       "    </tr>\n",
       "    <tr>\n",
       "      <th>13</th>\n",
       "      <td>Aloo Paratha</td>\n",
       "      <td>40</td>\n",
       "      <td>Ambala</td>\n",
       "      <td>Brownish</td>\n",
       "      <td>Punjabi</td>\n",
       "      <td>Spicy</td>\n",
       "    </tr>\n",
       "    <tr>\n",
       "      <th>14</th>\n",
       "      <td>Mysore Pak</td>\n",
       "      <td>300</td>\n",
       "      <td>Mysore</td>\n",
       "      <td>yellow</td>\n",
       "      <td>South Indian</td>\n",
       "      <td>Sweet</td>\n",
       "    </tr>\n",
       "  </tbody>\n",
       "</table>\n",
       "</div>"
      ],
      "text/plain": [
       "           Food Name  Price      City         Color        Cuisine  \\\n",
       "0              Misal     80      Pune           red  Maharashtrian   \n",
       "1             Dhokla     30   Vadodra        yellow        gujrati   \n",
       "2        Masala Dosa     70   Chennai         brown   South Indian   \n",
       "3          Rosogulla    120  Calcutta         white        Bengali   \n",
       "4      Chole Bhature    100     Delhi        yellow   North Indian   \n",
       "5      Bharit Bhakri     90   Jalgaon  Grey and red  Maharashtrian   \n",
       "6            Namkeen    150    Indore        Orange            M.P   \n",
       "7           Vada Pav     20    Mumbai        yellow  Maharashtrain   \n",
       "8              lassi     50  Amritsar         white        Punjabi   \n",
       "9              Momos    150  Shillong         White     North-east   \n",
       "10           Noodles    130    Jaipur        Yellow        Chinese   \n",
       "11            Ghevar    200   Udaipur         brown     Rajasthani   \n",
       "12        Bakarvadi      70      Pune         brown  maharashtrain   \n",
       "13  Aloo Paratha         40    Ambala      Brownish        Punjabi   \n",
       "14        Mysore Pak    300    Mysore        yellow   South Indian   \n",
       "\n",
       "              Taste  \n",
       "0             spicy  \n",
       "1   Sweet and spicy  \n",
       "2             spicy  \n",
       "3             Sweet  \n",
       "4             Spicy  \n",
       "5             Spicy  \n",
       "6             Spicy  \n",
       "7             Spicy  \n",
       "8    Sweet and sour  \n",
       "9             Spicy  \n",
       "10            Spicy  \n",
       "11            Sweet  \n",
       "12         Crunchy   \n",
       "13            Spicy  \n",
       "14            Sweet  "
      ]
     },
     "execution_count": 6,
     "metadata": {},
     "output_type": "execute_result"
    }
   ],
   "source": [
    "foods"
   ]
  },
  {
   "cell_type": "code",
   "execution_count": 35,
   "metadata": {},
   "outputs": [],
   "source": [
    "Taste= foods['Taste']"
   ]
  },
  {
   "cell_type": "code",
   "execution_count": 37,
   "metadata": {},
   "outputs": [
    {
     "data": {
      "text/plain": [
       "0               Spicy\n",
       "1     Sweet and spicy\n",
       "2               Spicy\n",
       "3               Sweet\n",
       "4               Spicy\n",
       "5               Spicy\n",
       "6               Spicy\n",
       "7               Spicy\n",
       "8      Sweet and sour\n",
       "9               Spicy\n",
       "10              Spicy\n",
       "11              Sweet\n",
       "12           Crunchy \n",
       "13              Spicy\n",
       "14              Sweet\n",
       "Name: Taste, dtype: object"
      ]
     },
     "execution_count": 37,
     "metadata": {},
     "output_type": "execute_result"
    }
   ],
   "source": [
    "Taste.str.capitalize()"
   ]
  },
  {
   "cell_type": "code",
   "execution_count": 38,
   "metadata": {},
   "outputs": [
    {
     "data": {
      "text/plain": [
       "Index(['Food Name', 'Price', 'City', 'Color', 'Cuisine', 'Taste'], dtype='object')"
      ]
     },
     "execution_count": 38,
     "metadata": {},
     "output_type": "execute_result"
    }
   ],
   "source": [
    "foods.columns"
   ]
  },
  {
   "cell_type": "code",
   "execution_count": 39,
   "metadata": {},
   "outputs": [
    {
     "data": {
      "text/plain": [
       "array([['Misal', 80, 'Pune', 'red', 'Maharashtrian', 'spicy'],\n",
       "       ['Dhokla', 30, 'Vadodra', 'yellow', 'gujrati', 'sweet and spicy'],\n",
       "       ['Masala Dosa', 70, 'Chennai', 'brown', 'South Indian', 'spicy'],\n",
       "       ['Rosogulla', 120, 'Calcutta', 'white', 'Bengali', 'sweet'],\n",
       "       ['Chole Bhature', 100, 'Delhi', 'yellow', 'North Indian', 'Spicy'],\n",
       "       ['Bharit Bhakri', 90, 'Jalgaon', 'Grey and red', 'Maharashtrian',\n",
       "        'Spicy'],\n",
       "       ['Namkeen', 150, 'Indore', 'Orange', 'M.P', 'Spicy'],\n",
       "       ['Vada Pav', 20, 'Mumbai', 'yellow', 'Maharashtrain', 'Spicy'],\n",
       "       ['lassi', 50, 'Amritsar', 'white', 'Punjabi', 'Sweet and sour'],\n",
       "       ['Momos', 150, 'Shillong', 'White', 'North-east', 'Spicy'],\n",
       "       ['Noodles', 130, 'Jaipur', 'Yellow', 'Chinese', 'Spicy'],\n",
       "       ['Ghevar', 200, 'Udaipur', 'brown', 'Rajasthani', 'Sweet'],\n",
       "       ['Bakarvadi ', 70, 'Pune', 'brown', 'maharashtrain', 'Crunchy '],\n",
       "       ['Aloo Paratha    ', 40, 'Ambala', 'Brownish', 'Punjabi', 'Spicy'],\n",
       "       ['Mysore Pak', 300, 'Mysore', 'yellow', 'South Indian', 'Sweet']],\n",
       "      dtype=object)"
      ]
     },
     "execution_count": 39,
     "metadata": {},
     "output_type": "execute_result"
    }
   ],
   "source": [
    "foods.values"
   ]
  },
  {
   "cell_type": "code",
   "execution_count": 40,
   "metadata": {},
   "outputs": [
    {
     "data": {
      "text/html": [
       "<div>\n",
       "<style scoped>\n",
       "    .dataframe tbody tr th:only-of-type {\n",
       "        vertical-align: middle;\n",
       "    }\n",
       "\n",
       "    .dataframe tbody tr th {\n",
       "        vertical-align: top;\n",
       "    }\n",
       "\n",
       "    .dataframe thead th {\n",
       "        text-align: right;\n",
       "    }\n",
       "</style>\n",
       "<table border=\"1\" class=\"dataframe\">\n",
       "  <thead>\n",
       "    <tr style=\"text-align: right;\">\n",
       "      <th></th>\n",
       "      <th>Price</th>\n",
       "      <th>Cuisine</th>\n",
       "    </tr>\n",
       "  </thead>\n",
       "  <tbody>\n",
       "    <tr>\n",
       "      <th>0</th>\n",
       "      <td>80</td>\n",
       "      <td>Maharashtrian</td>\n",
       "    </tr>\n",
       "    <tr>\n",
       "      <th>1</th>\n",
       "      <td>30</td>\n",
       "      <td>gujrati</td>\n",
       "    </tr>\n",
       "    <tr>\n",
       "      <th>2</th>\n",
       "      <td>70</td>\n",
       "      <td>South Indian</td>\n",
       "    </tr>\n",
       "    <tr>\n",
       "      <th>3</th>\n",
       "      <td>120</td>\n",
       "      <td>Bengali</td>\n",
       "    </tr>\n",
       "    <tr>\n",
       "      <th>4</th>\n",
       "      <td>100</td>\n",
       "      <td>North Indian</td>\n",
       "    </tr>\n",
       "    <tr>\n",
       "      <th>5</th>\n",
       "      <td>90</td>\n",
       "      <td>Maharashtrian</td>\n",
       "    </tr>\n",
       "    <tr>\n",
       "      <th>6</th>\n",
       "      <td>150</td>\n",
       "      <td>M.P</td>\n",
       "    </tr>\n",
       "    <tr>\n",
       "      <th>7</th>\n",
       "      <td>20</td>\n",
       "      <td>Maharashtrain</td>\n",
       "    </tr>\n",
       "    <tr>\n",
       "      <th>8</th>\n",
       "      <td>50</td>\n",
       "      <td>Punjabi</td>\n",
       "    </tr>\n",
       "    <tr>\n",
       "      <th>9</th>\n",
       "      <td>150</td>\n",
       "      <td>North-east</td>\n",
       "    </tr>\n",
       "    <tr>\n",
       "      <th>10</th>\n",
       "      <td>130</td>\n",
       "      <td>Chinese</td>\n",
       "    </tr>\n",
       "    <tr>\n",
       "      <th>11</th>\n",
       "      <td>200</td>\n",
       "      <td>Rajasthani</td>\n",
       "    </tr>\n",
       "    <tr>\n",
       "      <th>12</th>\n",
       "      <td>70</td>\n",
       "      <td>maharashtrain</td>\n",
       "    </tr>\n",
       "    <tr>\n",
       "      <th>13</th>\n",
       "      <td>40</td>\n",
       "      <td>Punjabi</td>\n",
       "    </tr>\n",
       "    <tr>\n",
       "      <th>14</th>\n",
       "      <td>300</td>\n",
       "      <td>South Indian</td>\n",
       "    </tr>\n",
       "  </tbody>\n",
       "</table>\n",
       "</div>"
      ],
      "text/plain": [
       "    Price        Cuisine\n",
       "0      80  Maharashtrian\n",
       "1      30        gujrati\n",
       "2      70   South Indian\n",
       "3     120        Bengali\n",
       "4     100   North Indian\n",
       "5      90  Maharashtrian\n",
       "6     150            M.P\n",
       "7      20  Maharashtrain\n",
       "8      50        Punjabi\n",
       "9     150     North-east\n",
       "10    130        Chinese\n",
       "11    200     Rajasthani\n",
       "12     70  maharashtrain\n",
       "13     40        Punjabi\n",
       "14    300   South Indian"
      ]
     },
     "execution_count": 40,
     "metadata": {},
     "output_type": "execute_result"
    }
   ],
   "source": [
    "c= foods[['Price','Cuisine']]\n",
    "c"
   ]
  },
  {
   "cell_type": "code",
   "execution_count": 41,
   "metadata": {},
   "outputs": [],
   "source": [
    "Cuisine= c['Cuisine'].unique()"
   ]
  },
  {
   "cell_type": "code",
   "execution_count": 42,
   "metadata": {},
   "outputs": [
    {
     "data": {
      "text/plain": [
       "array(['Maharashtrian', 'gujrati', 'South Indian', 'Bengali',\n",
       "       'North Indian', 'M.P', 'Maharashtrain', 'Punjabi', 'North-east',\n",
       "       'Chinese', 'Rajasthani', 'maharashtrain'], dtype=object)"
      ]
     },
     "execution_count": 42,
     "metadata": {},
     "output_type": "execute_result"
    }
   ],
   "source": [
    "Cuisine"
   ]
  },
  {
   "cell_type": "code",
   "execution_count": 43,
   "metadata": {},
   "outputs": [
    {
     "data": {
      "text/plain": [
       "Maharashtrian    2\n",
       "Punjabi          2\n",
       "South Indian     2\n",
       "Maharashtrain    1\n",
       "Rajasthani       1\n",
       "maharashtrain    1\n",
       "Chinese          1\n",
       "gujrati          1\n",
       "Bengali          1\n",
       "M.P              1\n",
       "North Indian     1\n",
       "North-east       1\n",
       "Name: Cuisine, dtype: int64"
      ]
     },
     "execution_count": 43,
     "metadata": {},
     "output_type": "execute_result"
    }
   ],
   "source": [
    "foods['Cuisine'].value_counts()"
   ]
  },
  {
   "cell_type": "markdown",
   "metadata": {},
   "source": [
    "## 1.Costliest Food"
   ]
  },
  {
   "cell_type": "code",
   "execution_count": 44,
   "metadata": {},
   "outputs": [
    {
     "data": {
      "text/html": [
       "<div>\n",
       "<style scoped>\n",
       "    .dataframe tbody tr th:only-of-type {\n",
       "        vertical-align: middle;\n",
       "    }\n",
       "\n",
       "    .dataframe tbody tr th {\n",
       "        vertical-align: top;\n",
       "    }\n",
       "\n",
       "    .dataframe thead th {\n",
       "        text-align: right;\n",
       "    }\n",
       "</style>\n",
       "<table border=\"1\" class=\"dataframe\">\n",
       "  <thead>\n",
       "    <tr style=\"text-align: right;\">\n",
       "      <th></th>\n",
       "      <th>Food Name</th>\n",
       "      <th>Price</th>\n",
       "      <th>City</th>\n",
       "      <th>Color</th>\n",
       "      <th>Cuisine</th>\n",
       "      <th>Taste</th>\n",
       "    </tr>\n",
       "  </thead>\n",
       "  <tbody>\n",
       "    <tr>\n",
       "      <th>14</th>\n",
       "      <td>Mysore Pak</td>\n",
       "      <td>300</td>\n",
       "      <td>Mysore</td>\n",
       "      <td>yellow</td>\n",
       "      <td>South Indian</td>\n",
       "      <td>Sweet</td>\n",
       "    </tr>\n",
       "  </tbody>\n",
       "</table>\n",
       "</div>"
      ],
      "text/plain": [
       "     Food Name  Price    City   Color       Cuisine  Taste\n",
       "14  Mysore Pak    300  Mysore  yellow  South Indian  Sweet"
      ]
     },
     "execution_count": 44,
     "metadata": {},
     "output_type": "execute_result"
    }
   ],
   "source": [
    "foods[['Food Name','Price','City','Color','Cuisine','Taste']][foods['Price']==foods['Price'].max()]"
   ]
  },
  {
   "cell_type": "markdown",
   "metadata": {},
   "source": [
    "## 2.Cheapest Spicy Food"
   ]
  },
  {
   "cell_type": "code",
   "execution_count": 45,
   "metadata": {},
   "outputs": [
    {
     "data": {
      "text/html": [
       "<div>\n",
       "<style scoped>\n",
       "    .dataframe tbody tr th:only-of-type {\n",
       "        vertical-align: middle;\n",
       "    }\n",
       "\n",
       "    .dataframe tbody tr th {\n",
       "        vertical-align: top;\n",
       "    }\n",
       "\n",
       "    .dataframe thead th {\n",
       "        text-align: right;\n",
       "    }\n",
       "</style>\n",
       "<table border=\"1\" class=\"dataframe\">\n",
       "  <thead>\n",
       "    <tr style=\"text-align: right;\">\n",
       "      <th></th>\n",
       "      <th>Food Name</th>\n",
       "      <th>Price</th>\n",
       "      <th>City</th>\n",
       "      <th>Color</th>\n",
       "      <th>Cuisine</th>\n",
       "      <th>Taste</th>\n",
       "    </tr>\n",
       "  </thead>\n",
       "  <tbody>\n",
       "    <tr>\n",
       "      <th>7</th>\n",
       "      <td>Vada Pav</td>\n",
       "      <td>20</td>\n",
       "      <td>Mumbai</td>\n",
       "      <td>yellow</td>\n",
       "      <td>Maharashtrain</td>\n",
       "      <td>Spicy</td>\n",
       "    </tr>\n",
       "  </tbody>\n",
       "</table>\n",
       "</div>"
      ],
      "text/plain": [
       "  Food Name  Price    City   Color        Cuisine  Taste\n",
       "7  Vada Pav     20  Mumbai  yellow  Maharashtrain  Spicy"
      ]
     },
     "execution_count": 45,
     "metadata": {},
     "output_type": "execute_result"
    }
   ],
   "source": [
    "foods[['Food Name','Price','City','Color','Cuisine','Taste']][(foods['Taste']=='Spicy') & (foods['Price'] == foods['Price'][foods['Taste']=='Spicy'].min())]"
   ]
  },
  {
   "cell_type": "markdown",
   "metadata": {},
   "source": [
    "## 3.Most Popular Cuisine"
   ]
  },
  {
   "cell_type": "code",
   "execution_count": 46,
   "metadata": {},
   "outputs": [
    {
     "data": {
      "text/plain": [
       "Maharashtrian    2\n",
       "Punjabi          2\n",
       "South Indian     2\n",
       "Maharashtrain    1\n",
       "Rajasthani       1\n",
       "maharashtrain    1\n",
       "Chinese          1\n",
       "gujrati          1\n",
       "Bengali          1\n",
       "M.P              1\n",
       "North Indian     1\n",
       "North-east       1\n",
       "Name: Cuisine, dtype: int64"
      ]
     },
     "execution_count": 46,
     "metadata": {},
     "output_type": "execute_result"
    }
   ],
   "source": [
    "m=foods['Cuisine'].value_counts()\n",
    "m"
   ]
  },
  {
   "cell_type": "code",
   "execution_count": 33,
   "metadata": {},
   "outputs": [
    {
     "data": {
      "text/plain": [
       "'South Indian'"
      ]
     },
     "execution_count": 33,
     "metadata": {},
     "output_type": "execute_result"
    }
   ],
   "source": [
    "foods['Cuisine'][foods['Cuisine'].value_counts().max()]"
   ]
  },
  {
   "cell_type": "markdown",
   "metadata": {},
   "source": [
    "## 4.Count of Different tastes"
   ]
  },
  {
   "cell_type": "code",
   "execution_count": 47,
   "metadata": {},
   "outputs": [
    {
     "data": {
      "text/plain": [
       "Spicy              7\n",
       "Sweet              2\n",
       "spicy              2\n",
       "sweet              1\n",
       "Sweet and sour     1\n",
       "sweet and spicy    1\n",
       "Crunchy            1\n",
       "Name: Taste, dtype: int64"
      ]
     },
     "execution_count": 47,
     "metadata": {},
     "output_type": "execute_result"
    }
   ],
   "source": [
    "foods['Taste'].value_counts()"
   ]
  },
  {
   "cell_type": "markdown",
   "metadata": {},
   "source": [
    "## 5.Foods which is available in Pune and is Spicy"
   ]
  },
  {
   "cell_type": "code",
   "execution_count": 49,
   "metadata": {},
   "outputs": [
    {
     "data": {
      "text/html": [
       "<div>\n",
       "<style scoped>\n",
       "    .dataframe tbody tr th:only-of-type {\n",
       "        vertical-align: middle;\n",
       "    }\n",
       "\n",
       "    .dataframe tbody tr th {\n",
       "        vertical-align: top;\n",
       "    }\n",
       "\n",
       "    .dataframe thead th {\n",
       "        text-align: right;\n",
       "    }\n",
       "</style>\n",
       "<table border=\"1\" class=\"dataframe\">\n",
       "  <thead>\n",
       "    <tr style=\"text-align: right;\">\n",
       "      <th></th>\n",
       "      <th>Food Name</th>\n",
       "      <th>Price</th>\n",
       "      <th>City</th>\n",
       "      <th>Color</th>\n",
       "      <th>Cuisine</th>\n",
       "      <th>Taste</th>\n",
       "    </tr>\n",
       "  </thead>\n",
       "  <tbody>\n",
       "    <tr>\n",
       "      <th>0</th>\n",
       "      <td>Misal</td>\n",
       "      <td>80</td>\n",
       "      <td>Pune</td>\n",
       "      <td>red</td>\n",
       "      <td>Maharashtrian</td>\n",
       "      <td>spicy</td>\n",
       "    </tr>\n",
       "    <tr>\n",
       "      <th>1</th>\n",
       "      <td>Dhokla</td>\n",
       "      <td>30</td>\n",
       "      <td>Vadodra</td>\n",
       "      <td>yellow</td>\n",
       "      <td>gujrati</td>\n",
       "      <td>sweet and spicy</td>\n",
       "    </tr>\n",
       "    <tr>\n",
       "      <th>2</th>\n",
       "      <td>Masala Dosa</td>\n",
       "      <td>70</td>\n",
       "      <td>Chennai</td>\n",
       "      <td>brown</td>\n",
       "      <td>South Indian</td>\n",
       "      <td>spicy</td>\n",
       "    </tr>\n",
       "    <tr>\n",
       "      <th>3</th>\n",
       "      <td>Rosogulla</td>\n",
       "      <td>120</td>\n",
       "      <td>Calcutta</td>\n",
       "      <td>white</td>\n",
       "      <td>Bengali</td>\n",
       "      <td>sweet</td>\n",
       "    </tr>\n",
       "    <tr>\n",
       "      <th>4</th>\n",
       "      <td>Chole Bhature</td>\n",
       "      <td>100</td>\n",
       "      <td>Delhi</td>\n",
       "      <td>yellow</td>\n",
       "      <td>North Indian</td>\n",
       "      <td>Spicy</td>\n",
       "    </tr>\n",
       "    <tr>\n",
       "      <th>5</th>\n",
       "      <td>Bharit Bhakri</td>\n",
       "      <td>90</td>\n",
       "      <td>Jalgaon</td>\n",
       "      <td>Grey and red</td>\n",
       "      <td>Maharashtrian</td>\n",
       "      <td>Spicy</td>\n",
       "    </tr>\n",
       "    <tr>\n",
       "      <th>6</th>\n",
       "      <td>Namkeen</td>\n",
       "      <td>150</td>\n",
       "      <td>Indore</td>\n",
       "      <td>Orange</td>\n",
       "      <td>M.P</td>\n",
       "      <td>Spicy</td>\n",
       "    </tr>\n",
       "    <tr>\n",
       "      <th>7</th>\n",
       "      <td>Vada Pav</td>\n",
       "      <td>20</td>\n",
       "      <td>Mumbai</td>\n",
       "      <td>yellow</td>\n",
       "      <td>Maharashtrain</td>\n",
       "      <td>Spicy</td>\n",
       "    </tr>\n",
       "    <tr>\n",
       "      <th>8</th>\n",
       "      <td>lassi</td>\n",
       "      <td>50</td>\n",
       "      <td>Amritsar</td>\n",
       "      <td>white</td>\n",
       "      <td>Punjabi</td>\n",
       "      <td>Sweet and sour</td>\n",
       "    </tr>\n",
       "    <tr>\n",
       "      <th>9</th>\n",
       "      <td>Momos</td>\n",
       "      <td>150</td>\n",
       "      <td>Shillong</td>\n",
       "      <td>White</td>\n",
       "      <td>North-east</td>\n",
       "      <td>Spicy</td>\n",
       "    </tr>\n",
       "    <tr>\n",
       "      <th>10</th>\n",
       "      <td>Noodles</td>\n",
       "      <td>130</td>\n",
       "      <td>Jaipur</td>\n",
       "      <td>Yellow</td>\n",
       "      <td>Chinese</td>\n",
       "      <td>Spicy</td>\n",
       "    </tr>\n",
       "    <tr>\n",
       "      <th>11</th>\n",
       "      <td>Ghevar</td>\n",
       "      <td>200</td>\n",
       "      <td>Udaipur</td>\n",
       "      <td>brown</td>\n",
       "      <td>Rajasthani</td>\n",
       "      <td>Sweet</td>\n",
       "    </tr>\n",
       "    <tr>\n",
       "      <th>12</th>\n",
       "      <td>Bakarvadi</td>\n",
       "      <td>70</td>\n",
       "      <td>Pune</td>\n",
       "      <td>brown</td>\n",
       "      <td>maharashtrain</td>\n",
       "      <td>Crunchy</td>\n",
       "    </tr>\n",
       "    <tr>\n",
       "      <th>13</th>\n",
       "      <td>Aloo Paratha</td>\n",
       "      <td>40</td>\n",
       "      <td>Ambala</td>\n",
       "      <td>Brownish</td>\n",
       "      <td>Punjabi</td>\n",
       "      <td>Spicy</td>\n",
       "    </tr>\n",
       "    <tr>\n",
       "      <th>14</th>\n",
       "      <td>Mysore Pak</td>\n",
       "      <td>300</td>\n",
       "      <td>Mysore</td>\n",
       "      <td>yellow</td>\n",
       "      <td>South Indian</td>\n",
       "      <td>Sweet</td>\n",
       "    </tr>\n",
       "  </tbody>\n",
       "</table>\n",
       "</div>"
      ],
      "text/plain": [
       "           Food Name  Price      City         Color        Cuisine  \\\n",
       "0              Misal     80      Pune           red  Maharashtrian   \n",
       "1             Dhokla     30   Vadodra        yellow        gujrati   \n",
       "2        Masala Dosa     70   Chennai         brown   South Indian   \n",
       "3          Rosogulla    120  Calcutta         white        Bengali   \n",
       "4      Chole Bhature    100     Delhi        yellow   North Indian   \n",
       "5      Bharit Bhakri     90   Jalgaon  Grey and red  Maharashtrian   \n",
       "6            Namkeen    150    Indore        Orange            M.P   \n",
       "7           Vada Pav     20    Mumbai        yellow  Maharashtrain   \n",
       "8              lassi     50  Amritsar         white        Punjabi   \n",
       "9              Momos    150  Shillong         White     North-east   \n",
       "10           Noodles    130    Jaipur        Yellow        Chinese   \n",
       "11            Ghevar    200   Udaipur         brown     Rajasthani   \n",
       "12        Bakarvadi      70      Pune         brown  maharashtrain   \n",
       "13  Aloo Paratha         40    Ambala      Brownish        Punjabi   \n",
       "14        Mysore Pak    300    Mysore        yellow   South Indian   \n",
       "\n",
       "              Taste  \n",
       "0             spicy  \n",
       "1   sweet and spicy  \n",
       "2             spicy  \n",
       "3             sweet  \n",
       "4             Spicy  \n",
       "5             Spicy  \n",
       "6             Spicy  \n",
       "7             Spicy  \n",
       "8    Sweet and sour  \n",
       "9             Spicy  \n",
       "10            Spicy  \n",
       "11            Sweet  \n",
       "12         Crunchy   \n",
       "13            Spicy  \n",
       "14            Sweet  "
      ]
     },
     "execution_count": 49,
     "metadata": {},
     "output_type": "execute_result"
    }
   ],
   "source": [
    "foods"
   ]
  },
  {
   "cell_type": "code",
   "execution_count": 52,
   "metadata": {},
   "outputs": [
    {
     "data": {
      "text/plain": [
       "0    Misal\n",
       "Name: Food Name, dtype: object"
      ]
     },
     "execution_count": 52,
     "metadata": {},
     "output_type": "execute_result"
    }
   ],
   "source": [
    "foods['Food Name'][(foods['City']=='Pune') & (foods['Taste']== 'spicy')]"
   ]
  },
  {
   "cell_type": "markdown",
   "metadata": {},
   "source": [
    "## 6.list of south indian cuisine"
   ]
  },
  {
   "cell_type": "code",
   "execution_count": 53,
   "metadata": {},
   "outputs": [
    {
     "data": {
      "text/html": [
       "<div>\n",
       "<style scoped>\n",
       "    .dataframe tbody tr th:only-of-type {\n",
       "        vertical-align: middle;\n",
       "    }\n",
       "\n",
       "    .dataframe tbody tr th {\n",
       "        vertical-align: top;\n",
       "    }\n",
       "\n",
       "    .dataframe thead th {\n",
       "        text-align: right;\n",
       "    }\n",
       "</style>\n",
       "<table border=\"1\" class=\"dataframe\">\n",
       "  <thead>\n",
       "    <tr style=\"text-align: right;\">\n",
       "      <th></th>\n",
       "      <th>Food Name</th>\n",
       "      <th>Price</th>\n",
       "      <th>City</th>\n",
       "      <th>Color</th>\n",
       "      <th>Cuisine</th>\n",
       "      <th>Taste</th>\n",
       "    </tr>\n",
       "  </thead>\n",
       "  <tbody>\n",
       "    <tr>\n",
       "      <th>2</th>\n",
       "      <td>Masala Dosa</td>\n",
       "      <td>70</td>\n",
       "      <td>Chennai</td>\n",
       "      <td>brown</td>\n",
       "      <td>South Indian</td>\n",
       "      <td>spicy</td>\n",
       "    </tr>\n",
       "    <tr>\n",
       "      <th>14</th>\n",
       "      <td>Mysore Pak</td>\n",
       "      <td>300</td>\n",
       "      <td>Mysore</td>\n",
       "      <td>yellow</td>\n",
       "      <td>South Indian</td>\n",
       "      <td>Sweet</td>\n",
       "    </tr>\n",
       "  </tbody>\n",
       "</table>\n",
       "</div>"
      ],
      "text/plain": [
       "      Food Name  Price     City   Color       Cuisine  Taste\n",
       "2   Masala Dosa     70  Chennai   brown  South Indian  spicy\n",
       "14   Mysore Pak    300   Mysore  yellow  South Indian  Sweet"
      ]
     },
     "execution_count": 53,
     "metadata": {},
     "output_type": "execute_result"
    }
   ],
   "source": [
    "foods[foods['Cuisine'] == 'South Indian']"
   ]
  },
  {
   "cell_type": "code",
   "execution_count": null,
   "metadata": {},
   "outputs": [],
   "source": []
  }
 ],
 "metadata": {
  "kernelspec": {
   "display_name": "Python 3",
   "language": "python",
   "name": "python3"
  },
  "language_info": {
   "codemirror_mode": {
    "name": "ipython",
    "version": 3
   },
   "file_extension": ".py",
   "mimetype": "text/x-python",
   "name": "python",
   "nbconvert_exporter": "python",
   "pygments_lexer": "ipython3",
   "version": "3.8.5"
  }
 },
 "nbformat": 4,
 "nbformat_minor": 4
}
