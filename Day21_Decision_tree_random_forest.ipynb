{
 "cells": [
  {
   "cell_type": "code",
   "execution_count": 1,
   "metadata": {},
   "outputs": [],
   "source": [
    "import pandas as pd\n",
    "import matplotlib.pyplot as plt\n",
    "import warnings\n",
    "warnings.filterwarnings('ignore')"
   ]
  },
  {
   "cell_type": "code",
   "execution_count": 2,
   "metadata": {},
   "outputs": [],
   "source": [
    "from sklearn.tree import DecisionTreeClassifier\n",
    "from sklearn.ensemble import RandomForestClassifier\n",
    "from sklearn.metrics import classification_report,confusion_matrix"
   ]
  },
  {
   "cell_type": "code",
   "execution_count": 3,
   "metadata": {},
   "outputs": [],
   "source": [
    "social_ad=pd.read_csv('Social_Network_Ads.csv')"
   ]
  },
  {
   "cell_type": "code",
   "execution_count": 5,
   "metadata": {},
   "outputs": [
    {
     "data": {
      "text/html": [
       "<div>\n",
       "<style scoped>\n",
       "    .dataframe tbody tr th:only-of-type {\n",
       "        vertical-align: middle;\n",
       "    }\n",
       "\n",
       "    .dataframe tbody tr th {\n",
       "        vertical-align: top;\n",
       "    }\n",
       "\n",
       "    .dataframe thead th {\n",
       "        text-align: right;\n",
       "    }\n",
       "</style>\n",
       "<table border=\"1\" class=\"dataframe\">\n",
       "  <thead>\n",
       "    <tr style=\"text-align: right;\">\n",
       "      <th></th>\n",
       "      <th>User ID</th>\n",
       "      <th>Gender</th>\n",
       "      <th>Age</th>\n",
       "      <th>EstimatedSalary</th>\n",
       "      <th>Purchased</th>\n",
       "    </tr>\n",
       "  </thead>\n",
       "  <tbody>\n",
       "    <tr>\n",
       "      <th>0</th>\n",
       "      <td>15624510</td>\n",
       "      <td>Male</td>\n",
       "      <td>19</td>\n",
       "      <td>19000</td>\n",
       "      <td>0</td>\n",
       "    </tr>\n",
       "    <tr>\n",
       "      <th>1</th>\n",
       "      <td>15810944</td>\n",
       "      <td>Male</td>\n",
       "      <td>35</td>\n",
       "      <td>20000</td>\n",
       "      <td>0</td>\n",
       "    </tr>\n",
       "    <tr>\n",
       "      <th>2</th>\n",
       "      <td>15668575</td>\n",
       "      <td>Female</td>\n",
       "      <td>26</td>\n",
       "      <td>43000</td>\n",
       "      <td>0</td>\n",
       "    </tr>\n",
       "    <tr>\n",
       "      <th>3</th>\n",
       "      <td>15603246</td>\n",
       "      <td>Female</td>\n",
       "      <td>27</td>\n",
       "      <td>57000</td>\n",
       "      <td>0</td>\n",
       "    </tr>\n",
       "    <tr>\n",
       "      <th>4</th>\n",
       "      <td>15804002</td>\n",
       "      <td>Male</td>\n",
       "      <td>19</td>\n",
       "      <td>76000</td>\n",
       "      <td>0</td>\n",
       "    </tr>\n",
       "  </tbody>\n",
       "</table>\n",
       "</div>"
      ],
      "text/plain": [
       "    User ID  Gender  Age  EstimatedSalary  Purchased\n",
       "0  15624510    Male   19            19000          0\n",
       "1  15810944    Male   35            20000          0\n",
       "2  15668575  Female   26            43000          0\n",
       "3  15603246  Female   27            57000          0\n",
       "4  15804002    Male   19            76000          0"
      ]
     },
     "execution_count": 5,
     "metadata": {},
     "output_type": "execute_result"
    }
   ],
   "source": [
    "social_ad.head()"
   ]
  },
  {
   "cell_type": "code",
   "execution_count": 6,
   "metadata": {},
   "outputs": [
    {
     "name": "stdout",
     "output_type": "stream",
     "text": [
      "<class 'pandas.core.frame.DataFrame'>\n",
      "RangeIndex: 400 entries, 0 to 399\n",
      "Data columns (total 5 columns):\n",
      " #   Column           Non-Null Count  Dtype \n",
      "---  ------           --------------  ----- \n",
      " 0   User ID          400 non-null    int64 \n",
      " 1   Gender           400 non-null    object\n",
      " 2   Age              400 non-null    int64 \n",
      " 3   EstimatedSalary  400 non-null    int64 \n",
      " 4   Purchased        400 non-null    int64 \n",
      "dtypes: int64(4), object(1)\n",
      "memory usage: 15.8+ KB\n"
     ]
    }
   ],
   "source": [
    "social_ad.info()"
   ]
  },
  {
   "cell_type": "code",
   "execution_count": 7,
   "metadata": {},
   "outputs": [
    {
     "data": {
      "text/plain": [
       "400"
      ]
     },
     "execution_count": 7,
     "metadata": {},
     "output_type": "execute_result"
    }
   ],
   "source": [
    "social_ad['User ID'].nunique()\n"
   ]
  },
  {
   "cell_type": "code",
   "execution_count": 8,
   "metadata": {},
   "outputs": [],
   "source": [
    "social_ad.drop('User ID',axis=1, inplace=True)"
   ]
  },
  {
   "cell_type": "code",
   "execution_count": 9,
   "metadata": {},
   "outputs": [
    {
     "data": {
      "text/html": [
       "<div>\n",
       "<style scoped>\n",
       "    .dataframe tbody tr th:only-of-type {\n",
       "        vertical-align: middle;\n",
       "    }\n",
       "\n",
       "    .dataframe tbody tr th {\n",
       "        vertical-align: top;\n",
       "    }\n",
       "\n",
       "    .dataframe thead th {\n",
       "        text-align: right;\n",
       "    }\n",
       "</style>\n",
       "<table border=\"1\" class=\"dataframe\">\n",
       "  <thead>\n",
       "    <tr style=\"text-align: right;\">\n",
       "      <th></th>\n",
       "      <th>Gender</th>\n",
       "      <th>Female</th>\n",
       "      <th>Male</th>\n",
       "    </tr>\n",
       "  </thead>\n",
       "  <tbody>\n",
       "    <tr>\n",
       "      <th rowspan=\"8\" valign=\"top\">Age</th>\n",
       "      <th>count</th>\n",
       "      <td>204.000000</td>\n",
       "      <td>196.000000</td>\n",
       "    </tr>\n",
       "    <tr>\n",
       "      <th>mean</th>\n",
       "      <td>38.411765</td>\n",
       "      <td>36.867347</td>\n",
       "    </tr>\n",
       "    <tr>\n",
       "      <th>std</th>\n",
       "      <td>10.859019</td>\n",
       "      <td>10.043636</td>\n",
       "    </tr>\n",
       "    <tr>\n",
       "      <th>min</th>\n",
       "      <td>18.000000</td>\n",
       "      <td>18.000000</td>\n",
       "    </tr>\n",
       "    <tr>\n",
       "      <th>25%</th>\n",
       "      <td>30.000000</td>\n",
       "      <td>29.000000</td>\n",
       "    </tr>\n",
       "    <tr>\n",
       "      <th>50%</th>\n",
       "      <td>37.500000</td>\n",
       "      <td>36.500000</td>\n",
       "    </tr>\n",
       "    <tr>\n",
       "      <th>75%</th>\n",
       "      <td>47.000000</td>\n",
       "      <td>42.000000</td>\n",
       "    </tr>\n",
       "    <tr>\n",
       "      <th>max</th>\n",
       "      <td>60.000000</td>\n",
       "      <td>60.000000</td>\n",
       "    </tr>\n",
       "    <tr>\n",
       "      <th rowspan=\"8\" valign=\"top\">EstimatedSalary</th>\n",
       "      <th>count</th>\n",
       "      <td>204.000000</td>\n",
       "      <td>196.000000</td>\n",
       "    </tr>\n",
       "    <tr>\n",
       "      <th>mean</th>\n",
       "      <td>71759.803922</td>\n",
       "      <td>67642.857143</td>\n",
       "    </tr>\n",
       "    <tr>\n",
       "      <th>std</th>\n",
       "      <td>35595.236189</td>\n",
       "      <td>32421.819181</td>\n",
       "    </tr>\n",
       "    <tr>\n",
       "      <th>min</th>\n",
       "      <td>15000.000000</td>\n",
       "      <td>15000.000000</td>\n",
       "    </tr>\n",
       "    <tr>\n",
       "      <th>25%</th>\n",
       "      <td>44000.000000</td>\n",
       "      <td>43000.000000</td>\n",
       "    </tr>\n",
       "    <tr>\n",
       "      <th>50%</th>\n",
       "      <td>70500.000000</td>\n",
       "      <td>68000.000000</td>\n",
       "    </tr>\n",
       "    <tr>\n",
       "      <th>75%</th>\n",
       "      <td>90750.000000</td>\n",
       "      <td>86000.000000</td>\n",
       "    </tr>\n",
       "    <tr>\n",
       "      <th>max</th>\n",
       "      <td>150000.000000</td>\n",
       "      <td>150000.000000</td>\n",
       "    </tr>\n",
       "    <tr>\n",
       "      <th rowspan=\"8\" valign=\"top\">Purchased</th>\n",
       "      <th>count</th>\n",
       "      <td>204.000000</td>\n",
       "      <td>196.000000</td>\n",
       "    </tr>\n",
       "    <tr>\n",
       "      <th>mean</th>\n",
       "      <td>0.377451</td>\n",
       "      <td>0.336735</td>\n",
       "    </tr>\n",
       "    <tr>\n",
       "      <th>std</th>\n",
       "      <td>0.485942</td>\n",
       "      <td>0.473804</td>\n",
       "    </tr>\n",
       "    <tr>\n",
       "      <th>min</th>\n",
       "      <td>0.000000</td>\n",
       "      <td>0.000000</td>\n",
       "    </tr>\n",
       "    <tr>\n",
       "      <th>25%</th>\n",
       "      <td>0.000000</td>\n",
       "      <td>0.000000</td>\n",
       "    </tr>\n",
       "    <tr>\n",
       "      <th>50%</th>\n",
       "      <td>0.000000</td>\n",
       "      <td>0.000000</td>\n",
       "    </tr>\n",
       "    <tr>\n",
       "      <th>75%</th>\n",
       "      <td>1.000000</td>\n",
       "      <td>1.000000</td>\n",
       "    </tr>\n",
       "    <tr>\n",
       "      <th>max</th>\n",
       "      <td>1.000000</td>\n",
       "      <td>1.000000</td>\n",
       "    </tr>\n",
       "  </tbody>\n",
       "</table>\n",
       "</div>"
      ],
      "text/plain": [
       "Gender                        Female           Male\n",
       "Age             count     204.000000     196.000000\n",
       "                mean       38.411765      36.867347\n",
       "                std        10.859019      10.043636\n",
       "                min        18.000000      18.000000\n",
       "                25%        30.000000      29.000000\n",
       "                50%        37.500000      36.500000\n",
       "                75%        47.000000      42.000000\n",
       "                max        60.000000      60.000000\n",
       "EstimatedSalary count     204.000000     196.000000\n",
       "                mean    71759.803922   67642.857143\n",
       "                std     35595.236189   32421.819181\n",
       "                min     15000.000000   15000.000000\n",
       "                25%     44000.000000   43000.000000\n",
       "                50%     70500.000000   68000.000000\n",
       "                75%     90750.000000   86000.000000\n",
       "                max    150000.000000  150000.000000\n",
       "Purchased       count     204.000000     196.000000\n",
       "                mean        0.377451       0.336735\n",
       "                std         0.485942       0.473804\n",
       "                min         0.000000       0.000000\n",
       "                25%         0.000000       0.000000\n",
       "                50%         0.000000       0.000000\n",
       "                75%         1.000000       1.000000\n",
       "                max         1.000000       1.000000"
      ]
     },
     "execution_count": 9,
     "metadata": {},
     "output_type": "execute_result"
    }
   ],
   "source": [
    "social_ad.groupby('Gender').describe().T\n"
   ]
  },
  {
   "cell_type": "code",
   "execution_count": 10,
   "metadata": {},
   "outputs": [
    {
     "data": {
      "text/html": [
       "<div>\n",
       "<style scoped>\n",
       "    .dataframe tbody tr th:only-of-type {\n",
       "        vertical-align: middle;\n",
       "    }\n",
       "\n",
       "    .dataframe tbody tr th {\n",
       "        vertical-align: top;\n",
       "    }\n",
       "\n",
       "    .dataframe thead tr th {\n",
       "        text-align: left;\n",
       "    }\n",
       "</style>\n",
       "<table border=\"1\" class=\"dataframe\">\n",
       "  <thead>\n",
       "    <tr>\n",
       "      <th></th>\n",
       "      <th>Gender</th>\n",
       "      <th colspan=\"2\" halign=\"left\">Female</th>\n",
       "      <th colspan=\"2\" halign=\"left\">Male</th>\n",
       "    </tr>\n",
       "    <tr>\n",
       "      <th></th>\n",
       "      <th>Purchased</th>\n",
       "      <th>0</th>\n",
       "      <th>1</th>\n",
       "      <th>0</th>\n",
       "      <th>1</th>\n",
       "    </tr>\n",
       "  </thead>\n",
       "  <tbody>\n",
       "    <tr>\n",
       "      <th rowspan=\"8\" valign=\"top\">Age</th>\n",
       "      <th>count</th>\n",
       "      <td>127.000000</td>\n",
       "      <td>77.000000</td>\n",
       "      <td>130.000000</td>\n",
       "      <td>66.000000</td>\n",
       "    </tr>\n",
       "    <tr>\n",
       "      <th>mean</th>\n",
       "      <td>33.110236</td>\n",
       "      <td>47.155844</td>\n",
       "      <td>32.484615</td>\n",
       "      <td>45.500000</td>\n",
       "    </tr>\n",
       "    <tr>\n",
       "      <th>std</th>\n",
       "      <td>8.468643</td>\n",
       "      <td>8.463645</td>\n",
       "      <td>7.504246</td>\n",
       "      <td>8.762244</td>\n",
       "    </tr>\n",
       "    <tr>\n",
       "      <th>min</th>\n",
       "      <td>18.000000</td>\n",
       "      <td>27.000000</td>\n",
       "      <td>18.000000</td>\n",
       "      <td>28.000000</td>\n",
       "    </tr>\n",
       "    <tr>\n",
       "      <th>25%</th>\n",
       "      <td>27.000000</td>\n",
       "      <td>42.000000</td>\n",
       "      <td>26.000000</td>\n",
       "      <td>39.000000</td>\n",
       "    </tr>\n",
       "    <tr>\n",
       "      <th>50%</th>\n",
       "      <td>33.000000</td>\n",
       "      <td>48.000000</td>\n",
       "      <td>34.500000</td>\n",
       "      <td>46.000000</td>\n",
       "    </tr>\n",
       "    <tr>\n",
       "      <th>75%</th>\n",
       "      <td>39.000000</td>\n",
       "      <td>53.000000</td>\n",
       "      <td>38.000000</td>\n",
       "      <td>50.500000</td>\n",
       "    </tr>\n",
       "    <tr>\n",
       "      <th>max</th>\n",
       "      <td>59.000000</td>\n",
       "      <td>60.000000</td>\n",
       "      <td>49.000000</td>\n",
       "      <td>60.000000</td>\n",
       "    </tr>\n",
       "    <tr>\n",
       "      <th rowspan=\"8\" valign=\"top\">EstimatedSalary</th>\n",
       "      <th>count</th>\n",
       "      <td>127.000000</td>\n",
       "      <td>77.000000</td>\n",
       "      <td>130.000000</td>\n",
       "      <td>66.000000</td>\n",
       "    </tr>\n",
       "    <tr>\n",
       "      <th>mean</th>\n",
       "      <td>61480.314961</td>\n",
       "      <td>88714.285714</td>\n",
       "      <td>59630.769231</td>\n",
       "      <td>83424.242424</td>\n",
       "    </tr>\n",
       "    <tr>\n",
       "      <th>std</th>\n",
       "      <td>25248.243816</td>\n",
       "      <td>43123.097103</td>\n",
       "      <td>23504.292355</td>\n",
       "      <td>40937.122745</td>\n",
       "    </tr>\n",
       "    <tr>\n",
       "      <th>min</th>\n",
       "      <td>15000.000000</td>\n",
       "      <td>20000.000000</td>\n",
       "      <td>15000.000000</td>\n",
       "      <td>20000.000000</td>\n",
       "    </tr>\n",
       "    <tr>\n",
       "      <th>25%</th>\n",
       "      <td>44000.000000</td>\n",
       "      <td>41000.000000</td>\n",
       "      <td>43500.000000</td>\n",
       "      <td>41250.000000</td>\n",
       "    </tr>\n",
       "    <tr>\n",
       "      <th>50%</th>\n",
       "      <td>62000.000000</td>\n",
       "      <td>96000.000000</td>\n",
       "      <td>60500.000000</td>\n",
       "      <td>87500.000000</td>\n",
       "    </tr>\n",
       "    <tr>\n",
       "      <th>75%</th>\n",
       "      <td>79000.000000</td>\n",
       "      <td>130000.000000</td>\n",
       "      <td>76750.000000</td>\n",
       "      <td>117750.000000</td>\n",
       "    </tr>\n",
       "    <tr>\n",
       "      <th>max</th>\n",
       "      <td>134000.000000</td>\n",
       "      <td>150000.000000</td>\n",
       "      <td>141000.000000</td>\n",
       "      <td>150000.000000</td>\n",
       "    </tr>\n",
       "  </tbody>\n",
       "</table>\n",
       "</div>"
      ],
      "text/plain": [
       "Gender                        Female                          Male  \\\n",
       "Purchased                          0              1              0   \n",
       "Age             count     127.000000      77.000000     130.000000   \n",
       "                mean       33.110236      47.155844      32.484615   \n",
       "                std         8.468643       8.463645       7.504246   \n",
       "                min        18.000000      27.000000      18.000000   \n",
       "                25%        27.000000      42.000000      26.000000   \n",
       "                50%        33.000000      48.000000      34.500000   \n",
       "                75%        39.000000      53.000000      38.000000   \n",
       "                max        59.000000      60.000000      49.000000   \n",
       "EstimatedSalary count     127.000000      77.000000     130.000000   \n",
       "                mean    61480.314961   88714.285714   59630.769231   \n",
       "                std     25248.243816   43123.097103   23504.292355   \n",
       "                min     15000.000000   20000.000000   15000.000000   \n",
       "                25%     44000.000000   41000.000000   43500.000000   \n",
       "                50%     62000.000000   96000.000000   60500.000000   \n",
       "                75%     79000.000000  130000.000000   76750.000000   \n",
       "                max    134000.000000  150000.000000  141000.000000   \n",
       "\n",
       "Gender                                \n",
       "Purchased                          1  \n",
       "Age             count      66.000000  \n",
       "                mean       45.500000  \n",
       "                std         8.762244  \n",
       "                min        28.000000  \n",
       "                25%        39.000000  \n",
       "                50%        46.000000  \n",
       "                75%        50.500000  \n",
       "                max        60.000000  \n",
       "EstimatedSalary count      66.000000  \n",
       "                mean    83424.242424  \n",
       "                std     40937.122745  \n",
       "                min     20000.000000  \n",
       "                25%     41250.000000  \n",
       "                50%     87500.000000  \n",
       "                75%    117750.000000  \n",
       "                max    150000.000000  "
      ]
     },
     "execution_count": 10,
     "metadata": {},
     "output_type": "execute_result"
    }
   ],
   "source": [
    "social_ad.groupby(['Gender','Purchased']).describe().T"
   ]
  },
  {
   "cell_type": "code",
   "execution_count": 12,
   "metadata": {},
   "outputs": [],
   "source": [
    "social_ad['Male']=pd.get_dummies(social_ad['Gender'],drop_first=True)\n",
    "social_ad.drop('Gender',axis=1,inplace=True)"
   ]
  },
  {
   "cell_type": "code",
   "execution_count": 13,
   "metadata": {},
   "outputs": [
    {
     "data": {
      "text/html": [
       "<div>\n",
       "<style scoped>\n",
       "    .dataframe tbody tr th:only-of-type {\n",
       "        vertical-align: middle;\n",
       "    }\n",
       "\n",
       "    .dataframe tbody tr th {\n",
       "        vertical-align: top;\n",
       "    }\n",
       "\n",
       "    .dataframe thead th {\n",
       "        text-align: right;\n",
       "    }\n",
       "</style>\n",
       "<table border=\"1\" class=\"dataframe\">\n",
       "  <thead>\n",
       "    <tr style=\"text-align: right;\">\n",
       "      <th></th>\n",
       "      <th>Age</th>\n",
       "      <th>EstimatedSalary</th>\n",
       "      <th>Purchased</th>\n",
       "      <th>Male</th>\n",
       "    </tr>\n",
       "  </thead>\n",
       "  <tbody>\n",
       "    <tr>\n",
       "      <th>0</th>\n",
       "      <td>19</td>\n",
       "      <td>19000</td>\n",
       "      <td>0</td>\n",
       "      <td>1</td>\n",
       "    </tr>\n",
       "    <tr>\n",
       "      <th>1</th>\n",
       "      <td>35</td>\n",
       "      <td>20000</td>\n",
       "      <td>0</td>\n",
       "      <td>1</td>\n",
       "    </tr>\n",
       "    <tr>\n",
       "      <th>2</th>\n",
       "      <td>26</td>\n",
       "      <td>43000</td>\n",
       "      <td>0</td>\n",
       "      <td>0</td>\n",
       "    </tr>\n",
       "    <tr>\n",
       "      <th>3</th>\n",
       "      <td>27</td>\n",
       "      <td>57000</td>\n",
       "      <td>0</td>\n",
       "      <td>0</td>\n",
       "    </tr>\n",
       "    <tr>\n",
       "      <th>4</th>\n",
       "      <td>19</td>\n",
       "      <td>76000</td>\n",
       "      <td>0</td>\n",
       "      <td>1</td>\n",
       "    </tr>\n",
       "    <tr>\n",
       "      <th>...</th>\n",
       "      <td>...</td>\n",
       "      <td>...</td>\n",
       "      <td>...</td>\n",
       "      <td>...</td>\n",
       "    </tr>\n",
       "    <tr>\n",
       "      <th>395</th>\n",
       "      <td>46</td>\n",
       "      <td>41000</td>\n",
       "      <td>1</td>\n",
       "      <td>0</td>\n",
       "    </tr>\n",
       "    <tr>\n",
       "      <th>396</th>\n",
       "      <td>51</td>\n",
       "      <td>23000</td>\n",
       "      <td>1</td>\n",
       "      <td>1</td>\n",
       "    </tr>\n",
       "    <tr>\n",
       "      <th>397</th>\n",
       "      <td>50</td>\n",
       "      <td>20000</td>\n",
       "      <td>1</td>\n",
       "      <td>0</td>\n",
       "    </tr>\n",
       "    <tr>\n",
       "      <th>398</th>\n",
       "      <td>36</td>\n",
       "      <td>33000</td>\n",
       "      <td>0</td>\n",
       "      <td>1</td>\n",
       "    </tr>\n",
       "    <tr>\n",
       "      <th>399</th>\n",
       "      <td>49</td>\n",
       "      <td>36000</td>\n",
       "      <td>1</td>\n",
       "      <td>0</td>\n",
       "    </tr>\n",
       "  </tbody>\n",
       "</table>\n",
       "<p>400 rows × 4 columns</p>\n",
       "</div>"
      ],
      "text/plain": [
       "     Age  EstimatedSalary  Purchased  Male\n",
       "0     19            19000          0     1\n",
       "1     35            20000          0     1\n",
       "2     26            43000          0     0\n",
       "3     27            57000          0     0\n",
       "4     19            76000          0     1\n",
       "..   ...              ...        ...   ...\n",
       "395   46            41000          1     0\n",
       "396   51            23000          1     1\n",
       "397   50            20000          1     0\n",
       "398   36            33000          0     1\n",
       "399   49            36000          1     0\n",
       "\n",
       "[400 rows x 4 columns]"
      ]
     },
     "execution_count": 13,
     "metadata": {},
     "output_type": "execute_result"
    }
   ],
   "source": [
    "social_ad"
   ]
  },
  {
   "cell_type": "code",
   "execution_count": 14,
   "metadata": {},
   "outputs": [
    {
     "data": {
      "text/plain": [
       "<AxesSubplot:ylabel='Density'>"
      ]
     },
     "execution_count": 14,
     "metadata": {},
     "output_type": "execute_result"
    },
    {
     "data": {
      "image/png": "[encoded data removed]",
      "text/plain": [
       "<Figure size 432x288 with 1 Axes>"
      ]
     },
     "metadata": {
      "needs_background": "light"
     },
     "output_type": "display_data"
    }
   ],
   "source": [
    "social_ad['Age'].plot.kde()"
   ]
  },
  {
   "cell_type": "code",
   "execution_count": 17,
   "metadata": {},
   "outputs": [
    {
     "data": {
      "image/png": "[encoded data removed]",
      "text/plain": [
       "<Figure size 432x288 with 1 Axes>"
      ]
     },
     "metadata": {
      "needs_background": "light"
     },
     "output_type": "display_data"
    }
   ],
   "source": [
    "p = plt.hist(social_ad['Age'],bins = 20)"
   ]
  },
  {
   "cell_type": "code",
   "execution_count": 18,
   "metadata": {},
   "outputs": [
    {
     "data": {
      "text/plain": [
       "<AxesSubplot:ylabel='Density'>"
      ]
     },
     "execution_count": 18,
     "metadata": {},
     "output_type": "execute_result"
    },
    {
     "data": {
      "image/png": "[encoded data removed]",
      "text/plain": [
       "<Figure size 432x288 with 1 Axes>"
      ]
     },
     "metadata": {
      "needs_background": "light"
     },
     "output_type": "display_data"
    }
   ],
   "source": [
    "social_ad['EstimatedSalary'].plot.kde()"
   ]
  },
  {
   "cell_type": "code",
   "execution_count": 19,
   "metadata": {},
   "outputs": [
    {
     "data": {
      "image/png": "[encoded data removed]",
      "text/plain": [
       "<Figure size 432x288 with 1 Axes>"
      ]
     },
     "metadata": {
      "needs_background": "light"
     },
     "output_type": "display_data"
    }
   ],
   "source": [
    "p = plt.hist(social_ad['EstimatedSalary'],bins = 20)"
   ]
  },
  {
   "cell_type": "code",
   "execution_count": 24,
   "metadata": {},
   "outputs": [
    {
     "data": {
      "text/plain": [
       "Text(0.5, 1.0, 'Purchased')"
      ]
     },
     "execution_count": 24,
     "metadata": {},
     "output_type": "execute_result"
    },
    {
     "data": {
      "image/png": "[encoded data removed]",
      "text/plain": [
       "<Figure size 864x360 with 2 Axes>"
      ]
     },
     "metadata": {
      "needs_background": "light"
     },
     "output_type": "display_data"
    }
   ],
   "source": [
    "plt.figure(figsize=(12,5))\n",
    "plt.subplot(1,2,1)\n",
    "p = plt.hist(social_ad[social_ad['Purchased']==0]['EstimatedSalary'],bins = 20)\n",
    "plt.grid()\n",
    "plt.ylim([0,50])\n",
    "plt.xlabel('Salary')\n",
    "plt.ylabel('Count')\n",
    "plt.title('Not Purchased')\n",
    "\n",
    "\n",
    "plt.subplot(1,2,2)\n",
    "p = plt.hist(social_ad[social_ad['Purchased']==1]['EstimatedSalary'],bins = 20,color='r')\n",
    "plt.grid()\n",
    "plt.ylim([0,50])\n",
    "plt.xlabel('Salary')\n",
    "plt.ylabel('Count')\n",
    "plt.title('Purchased')"
   ]
  },
  {
   "cell_type": "code",
   "execution_count": 25,
   "metadata": {},
   "outputs": [
    {
     "data": {
      "text/plain": [
       "Text(0.5, 1.0, 'Purchased')"
      ]
     },
     "execution_count": 25,
     "metadata": {},
     "output_type": "execute_result"
    },
    {
     "data": {
      "image/png": "[encoded data removed]",
      "text/plain": [
       "<Figure size 864x360 with 2 Axes>"
      ]
     },
     "metadata": {
      "needs_background": "light"
     },
     "output_type": "display_data"
    }
   ],
   "source": [
    "plt.figure(figsize=(12,5))\n",
    "plt.subplot(1,2,1)\n",
    "p = plt.hist(social_ad[social_ad['Purchased']==0]['Age'],bins = 20)\n",
    "plt.grid()\n",
    "plt.ylim([0,50])\n",
    "plt.xlabel('Salary')\n",
    "plt.ylabel('Count')\n",
    "plt.title('Not Purchased')\n",
    "\n",
    "\n",
    "plt.subplot(1,2,2)\n",
    "p = plt.hist(social_ad[social_ad['Purchased']==1]['Age'],bins = 20,color='r')\n",
    "plt.grid()\n",
    "plt.ylim([0,50])\n",
    "plt.xlabel('Salary')\n",
    "plt.ylabel('Count')\n",
    "plt.title('Purchased')"
   ]
  },
  {
   "cell_type": "code",
   "execution_count": 26,
   "metadata": {},
   "outputs": [],
   "source": [
    "x=social_ad.drop('Purchased',axis=1)\n",
    "y=social_ad['Purchased']"
   ]
  },
  {
   "cell_type": "code",
   "execution_count": 38,
   "metadata": {},
   "outputs": [],
   "source": [
    "from sklearn.model_selection import train_test_split\n",
    "xtrain,xtest,ytrain,ytest=train_test_split(x,y,test_size=0.25,random_state=101)"
   ]
  },
  {
   "cell_type": "code",
   "execution_count": 39,
   "metadata": {},
   "outputs": [],
   "source": [
    "model_dt=DecisionTreeClassifier().fit(xtrain,ytrain)"
   ]
  },
  {
   "cell_type": "code",
   "execution_count": 43,
   "metadata": {},
   "outputs": [
    {
     "data": {
      "text/plain": [
       "87.0"
      ]
     },
     "execution_count": 43,
     "metadata": {},
     "output_type": "execute_result"
    }
   ],
   "source": [
    "model_dt.score(xtest,ytest)*100"
   ]
  },
  {
   "cell_type": "code",
   "execution_count": 44,
   "metadata": {},
   "outputs": [],
   "source": [
    "model_rf=RandomForestClassifier().fit(xtrain,ytrain)"
   ]
  },
  {
   "cell_type": "code",
   "execution_count": 48,
   "metadata": {},
   "outputs": [
    {
     "data": {
      "text/plain": [
       "90.0"
      ]
     },
     "execution_count": 48,
     "metadata": {},
     "output_type": "execute_result"
    }
   ],
   "source": [
    "model_rf.score(xtest,ytest)*100"
   ]
  },
  {
   "cell_type": "code",
   "execution_count": 50,
   "metadata": {},
   "outputs": [
    {
     "data": {
      "text/plain": [
       "array([0, 1], dtype=int64)"
      ]
     },
     "execution_count": 50,
     "metadata": {},
     "output_type": "execute_result"
    }
   ],
   "source": [
    "model_dt.classes_"
   ]
  },
  {
   "cell_type": "code",
   "execution_count": 52,
   "metadata": {},
   "outputs": [
    {
     "data": {
      "text/plain": [
       "array([0.518826  , 0.44396077, 0.03721322])"
      ]
     },
     "execution_count": 52,
     "metadata": {},
     "output_type": "execute_result"
    }
   ],
   "source": [
    "model_dt.feature_importances_"
   ]
  },
  {
   "cell_type": "code",
   "execution_count": 53,
   "metadata": {},
   "outputs": [],
   "source": [
    "imp_dt=pd.DataFrame(model_dt.feature_importances_*100,index=x.columns,columns=['Feature Importance'])"
   ]
  },
  {
   "cell_type": "code",
   "execution_count": 54,
   "metadata": {},
   "outputs": [
    {
     "data": {
      "text/html": [
       "<div>\n",
       "<style scoped>\n",
       "    .dataframe tbody tr th:only-of-type {\n",
       "        vertical-align: middle;\n",
       "    }\n",
       "\n",
       "    .dataframe tbody tr th {\n",
       "        vertical-align: top;\n",
       "    }\n",
       "\n",
       "    .dataframe thead th {\n",
       "        text-align: right;\n",
       "    }\n",
       "</style>\n",
       "<table border=\"1\" class=\"dataframe\">\n",
       "  <thead>\n",
       "    <tr style=\"text-align: right;\">\n",
       "      <th></th>\n",
       "      <th>Feature Importance</th>\n",
       "    </tr>\n",
       "  </thead>\n",
       "  <tbody>\n",
       "    <tr>\n",
       "      <th>Age</th>\n",
       "      <td>51.882600</td>\n",
       "    </tr>\n",
       "    <tr>\n",
       "      <th>EstimatedSalary</th>\n",
       "      <td>44.396077</td>\n",
       "    </tr>\n",
       "    <tr>\n",
       "      <th>Male</th>\n",
       "      <td>3.721322</td>\n",
       "    </tr>\n",
       "  </tbody>\n",
       "</table>\n",
       "</div>"
      ],
      "text/plain": [
       "                 Feature Importance\n",
       "Age                       51.882600\n",
       "EstimatedSalary           44.396077\n",
       "Male                       3.721322"
      ]
     },
     "execution_count": 54,
     "metadata": {},
     "output_type": "execute_result"
    }
   ],
   "source": [
    "imp_dt"
   ]
  },
  {
   "cell_type": "code",
   "execution_count": 55,
   "metadata": {},
   "outputs": [
    {
     "data": {
      "text/plain": [
       "Feature Importance    100.0\n",
       "dtype: float64"
      ]
     },
     "execution_count": 55,
     "metadata": {},
     "output_type": "execute_result"
    }
   ],
   "source": [
    "imp_dt.sum()"
   ]
  },
  {
   "cell_type": "code",
   "execution_count": 56,
   "metadata": {},
   "outputs": [],
   "source": [
    "x2=x.drop('Male',axis=1).copy()\n",
    "y2=y.copy()\n",
    "xtrain2,xtest2,ytrain2,ytest2=train_test_split(x2,y2,test_size=0.25,random_state=101)"
   ]
  },
  {
   "cell_type": "code",
   "execution_count": 57,
   "metadata": {},
   "outputs": [],
   "source": [
    "model_dt_2=DecisionTreeClassifier().fit(xtrain2,ytrain2)"
   ]
  },
  {
   "cell_type": "code",
   "execution_count": 59,
   "metadata": {},
   "outputs": [
    {
     "name": "stdout",
     "output_type": "stream",
     "text": [
      "88.0\n"
     ]
    }
   ],
   "source": [
    "print(round(model_dt_2.score(xtest2,ytest2)*100,2))"
   ]
  },
  {
   "cell_type": "code",
   "execution_count": 62,
   "metadata": {},
   "outputs": [
    {
     "name": "stdout",
     "output_type": "stream",
     "text": [
      "88.0\n"
     ]
    }
   ],
   "source": [
    "model_rf_2=RandomForestClassifier().fit(xtrain2,ytrain2)\n",
    "print(round(model_rf_2.score(xtest2,ytest2)*100,2))"
   ]
  },
  {
   "cell_type": "code",
   "execution_count": 63,
   "metadata": {},
   "outputs": [
    {
     "data": {
      "text/plain": [
       "('criterion',\n",
       " 'max_depth',\n",
       " 'min_samples_split',\n",
       " 'min_samples_leaf',\n",
       " 'min_weight_fraction_leaf',\n",
       " 'max_features',\n",
       " 'max_leaf_nodes',\n",
       " 'min_impurity_decrease',\n",
       " 'min_impurity_split',\n",
       " 'random_state',\n",
       " 'ccp_alpha')"
      ]
     },
     "execution_count": 63,
     "metadata": {},
     "output_type": "execute_result"
    }
   ],
   "source": [
    "model_rf.estimator_params"
   ]
  },
  {
   "cell_type": "code",
   "execution_count": 64,
   "metadata": {},
   "outputs": [
    {
     "data": {
      "text/plain": [
       "'gini'"
      ]
     },
     "execution_count": 64,
     "metadata": {},
     "output_type": "execute_result"
    }
   ],
   "source": [
    "model_rf.criterion"
   ]
  },
  {
   "cell_type": "code",
   "execution_count": 65,
   "metadata": {},
   "outputs": [
    {
     "data": {
      "text/plain": [
       "DecisionTreeClassifier()"
      ]
     },
     "execution_count": 65,
     "metadata": {},
     "output_type": "execute_result"
    }
   ],
   "source": [
    "model_rf.base_estimator"
   ]
  },
  {
   "cell_type": "code",
   "execution_count": 66,
   "metadata": {},
   "outputs": [
    {
     "data": {
      "text/plain": [
       "DecisionTreeClassifier()"
      ]
     },
     "execution_count": 66,
     "metadata": {},
     "output_type": "execute_result"
    }
   ],
   "source": [
    "model_rf.base_estimator_"
   ]
  },
  {
   "cell_type": "code",
   "execution_count": 67,
   "metadata": {},
   "outputs": [
    {
     "data": {
      "text/plain": [
       "2"
      ]
     },
     "execution_count": 67,
     "metadata": {},
     "output_type": "execute_result"
    }
   ],
   "source": [
    "model_rf.min_samples_split"
   ]
  },
  {
   "cell_type": "code",
   "execution_count": 68,
   "metadata": {},
   "outputs": [
    {
     "data": {
      "text/plain": [
       "0.0"
      ]
     },
     "execution_count": 68,
     "metadata": {},
     "output_type": "execute_result"
    }
   ],
   "source": [
    "model_rf.min_impurity_decrease"
   ]
  },
  {
   "cell_type": "code",
   "execution_count": 71,
   "metadata": {
    "scrolled": true
   },
   "outputs": [
    {
     "data": {
      "text/plain": [
       "[DecisionTreeClassifier(max_features='auto', random_state=750748114),\n",
       " DecisionTreeClassifier(max_features='auto', random_state=289818605),\n",
       " DecisionTreeClassifier(max_features='auto', random_state=1557564479),\n",
       " DecisionTreeClassifier(max_features='auto', random_state=1014664409),\n",
       " DecisionTreeClassifier(max_features='auto', random_state=900281520),\n",
       " DecisionTreeClassifier(max_features='auto', random_state=949437955),\n",
       " DecisionTreeClassifier(max_features='auto', random_state=2110215586),\n",
       " DecisionTreeClassifier(max_features='auto', random_state=1735945459),\n",
       " DecisionTreeClassifier(max_features='auto', random_state=429789997),\n",
       " DecisionTreeClassifier(max_features='auto', random_state=134109802),\n",
       " DecisionTreeClassifier(max_features='auto', random_state=722443394),\n",
       " DecisionTreeClassifier(max_features='auto', random_state=733946127),\n",
       " DecisionTreeClassifier(max_features='auto', random_state=944231611),\n",
       " DecisionTreeClassifier(max_features='auto', random_state=240003185),\n",
       " DecisionTreeClassifier(max_features='auto', random_state=744190244),\n",
       " DecisionTreeClassifier(max_features='auto', random_state=1919112704),\n",
       " DecisionTreeClassifier(max_features='auto', random_state=320818223),\n",
       " DecisionTreeClassifier(max_features='auto', random_state=407179036),\n",
       " DecisionTreeClassifier(max_features='auto', random_state=1856910303),\n",
       " DecisionTreeClassifier(max_features='auto', random_state=23659561),\n",
       " DecisionTreeClassifier(max_features='auto', random_state=2070435427),\n",
       " DecisionTreeClassifier(max_features='auto', random_state=2014874884),\n",
       " DecisionTreeClassifier(max_features='auto', random_state=1662220924),\n",
       " DecisionTreeClassifier(max_features='auto', random_state=343050444),\n",
       " DecisionTreeClassifier(max_features='auto', random_state=1743832674),\n",
       " DecisionTreeClassifier(max_features='auto', random_state=212343058),\n",
       " DecisionTreeClassifier(max_features='auto', random_state=263434925),\n",
       " DecisionTreeClassifier(max_features='auto', random_state=2146440794),\n",
       " DecisionTreeClassifier(max_features='auto', random_state=210650616),\n",
       " DecisionTreeClassifier(max_features='auto', random_state=342460986),\n",
       " DecisionTreeClassifier(max_features='auto', random_state=2002962999),\n",
       " DecisionTreeClassifier(max_features='auto', random_state=294276714),\n",
       " DecisionTreeClassifier(max_features='auto', random_state=197836627),\n",
       " DecisionTreeClassifier(max_features='auto', random_state=834544551),\n",
       " DecisionTreeClassifier(max_features='auto', random_state=1387617557),\n",
       " DecisionTreeClassifier(max_features='auto', random_state=2050383982),\n",
       " DecisionTreeClassifier(max_features='auto', random_state=1647871746),\n",
       " DecisionTreeClassifier(max_features='auto', random_state=797516471),\n",
       " DecisionTreeClassifier(max_features='auto', random_state=1702197221),\n",
       " DecisionTreeClassifier(max_features='auto', random_state=1332692094),\n",
       " DecisionTreeClassifier(max_features='auto', random_state=2074143763),\n",
       " DecisionTreeClassifier(max_features='auto', random_state=1041064308),\n",
       " DecisionTreeClassifier(max_features='auto', random_state=884238843),\n",
       " DecisionTreeClassifier(max_features='auto', random_state=644170892),\n",
       " DecisionTreeClassifier(max_features='auto', random_state=1259126942),\n",
       " DecisionTreeClassifier(max_features='auto', random_state=111701312),\n",
       " DecisionTreeClassifier(max_features='auto', random_state=1222010191),\n",
       " DecisionTreeClassifier(max_features='auto', random_state=1447476683),\n",
       " DecisionTreeClassifier(max_features='auto', random_state=1251297888),\n",
       " DecisionTreeClassifier(max_features='auto', random_state=728861336),\n",
       " DecisionTreeClassifier(max_features='auto', random_state=1838857600),\n",
       " DecisionTreeClassifier(max_features='auto', random_state=323113275),\n",
       " DecisionTreeClassifier(max_features='auto', random_state=35653997),\n",
       " DecisionTreeClassifier(max_features='auto', random_state=1141330323),\n",
       " DecisionTreeClassifier(max_features='auto', random_state=1498471898),\n",
       " DecisionTreeClassifier(max_features='auto', random_state=1552752654),\n",
       " DecisionTreeClassifier(max_features='auto', random_state=1459256654),\n",
       " DecisionTreeClassifier(max_features='auto', random_state=1979142297),\n",
       " DecisionTreeClassifier(max_features='auto', random_state=824298069),\n",
       " DecisionTreeClassifier(max_features='auto', random_state=962153145),\n",
       " DecisionTreeClassifier(max_features='auto', random_state=1874196416),\n",
       " DecisionTreeClassifier(max_features='auto', random_state=1064762846),\n",
       " DecisionTreeClassifier(max_features='auto', random_state=1539847755),\n",
       " DecisionTreeClassifier(max_features='auto', random_state=315074169),\n",
       " DecisionTreeClassifier(max_features='auto', random_state=1031875213),\n",
       " DecisionTreeClassifier(max_features='auto', random_state=641298676),\n",
       " DecisionTreeClassifier(max_features='auto', random_state=1268595305),\n",
       " DecisionTreeClassifier(max_features='auto', random_state=1687688314),\n",
       " DecisionTreeClassifier(max_features='auto', random_state=1381004800),\n",
       " DecisionTreeClassifier(max_features='auto', random_state=1591985015),\n",
       " DecisionTreeClassifier(max_features='auto', random_state=1617248651),\n",
       " DecisionTreeClassifier(max_features='auto', random_state=1536515903),\n",
       " DecisionTreeClassifier(max_features='auto', random_state=1367022180),\n",
       " DecisionTreeClassifier(max_features='auto', random_state=1351369976),\n",
       " DecisionTreeClassifier(max_features='auto', random_state=799065968),\n",
       " DecisionTreeClassifier(max_features='auto', random_state=1628419053),\n",
       " DecisionTreeClassifier(max_features='auto', random_state=1561571088),\n",
       " DecisionTreeClassifier(max_features='auto', random_state=480977917),\n",
       " DecisionTreeClassifier(max_features='auto', random_state=1306159715),\n",
       " DecisionTreeClassifier(max_features='auto', random_state=729686396),\n",
       " DecisionTreeClassifier(max_features='auto', random_state=793379690),\n",
       " DecisionTreeClassifier(max_features='auto', random_state=1131269649),\n",
       " DecisionTreeClassifier(max_features='auto', random_state=184010414),\n",
       " DecisionTreeClassifier(max_features='auto', random_state=589711886),\n",
       " DecisionTreeClassifier(max_features='auto', random_state=209038708),\n",
       " DecisionTreeClassifier(max_features='auto', random_state=1193500176),\n",
       " DecisionTreeClassifier(max_features='auto', random_state=557873831),\n",
       " DecisionTreeClassifier(max_features='auto', random_state=1185475530),\n",
       " DecisionTreeClassifier(max_features='auto', random_state=1373691414),\n",
       " DecisionTreeClassifier(max_features='auto', random_state=2011593344),\n",
       " DecisionTreeClassifier(max_features='auto', random_state=981802842),\n",
       " DecisionTreeClassifier(max_features='auto', random_state=457113205),\n",
       " DecisionTreeClassifier(max_features='auto', random_state=1399457558),\n",
       " DecisionTreeClassifier(max_features='auto', random_state=1979549581),\n",
       " DecisionTreeClassifier(max_features='auto', random_state=1731721632),\n",
       " DecisionTreeClassifier(max_features='auto', random_state=693118930),\n",
       " DecisionTreeClassifier(max_features='auto', random_state=1378071630),\n",
       " DecisionTreeClassifier(max_features='auto', random_state=1801421827),\n",
       " DecisionTreeClassifier(max_features='auto', random_state=711859519),\n",
       " DecisionTreeClassifier(max_features='auto', random_state=1260602556)]"
      ]
     },
     "execution_count": 71,
     "metadata": {},
     "output_type": "execute_result"
    }
   ],
   "source": [
    "model_rf.estimators_"
   ]
  },
  {
   "cell_type": "code",
   "execution_count": 72,
   "metadata": {},
   "outputs": [
    {
     "data": {
      "text/plain": [
       "array([51.56962137, 47.57561575,  0.85476288])"
      ]
     },
     "execution_count": 72,
     "metadata": {},
     "output_type": "execute_result"
    }
   ],
   "source": [
    "model_rf.feature_importances_*100\n"
   ]
  },
  {
   "cell_type": "code",
   "execution_count": 73,
   "metadata": {},
   "outputs": [
    {
     "data": {
      "text/plain": [
       "86.0"
      ]
     },
     "execution_count": 73,
     "metadata": {},
     "output_type": "execute_result"
    }
   ],
   "source": [
    "model_dt_3 = DecisionTreeClassifier(criterion='entropy',random_state=101).fit(xtrain2, ytrain2)\n",
    "model_dt_3.score(xtest2, ytest2)*100"
   ]
  },
  {
   "cell_type": "code",
   "execution_count": 77,
   "metadata": {},
   "outputs": [],
   "source": [
    "scores = []\n",
    "for i in range(5,201, 10):\n",
    "    model_rf_3 = RandomForestClassifier(n_estimators=i,).fit(xtrain2, ytrain2)\n",
    "    scores.append(round(model_rf_3.score(xtest2, ytest2)*100,2))"
   ]
  },
  {
   "cell_type": "code",
   "execution_count": 78,
   "metadata": {},
   "outputs": [
    {
     "data": {
      "text/plain": [
       "0"
      ]
     },
     "execution_count": 78,
     "metadata": {},
     "output_type": "execute_result"
    },
    {
     "data": {
      "image/png": "[encoded data removed]",
      "text/plain": [
       "<Figure size 864x504 with 1 Axes>"
      ]
     },
     "metadata": {
      "needs_background": "light"
     },
     "output_type": "display_data"
    }
   ],
   "source": [
    "plt.figure(figsize=(12,7))\n",
    "plt.plot(range(5,201,10),scores,lw=3,marker='*',markersize=10,markerfacecolor='r',markeredgecolor='r')\n",
    "plt.grid()\n",
    "plt.ylim([80,105])\n",
    "plt.yticks(range(80,101, 1))\n",
    "plt.xticks(range(5,201, 5))\n",
    "0"
   ]
  },
  {
   "cell_type": "code",
   "execution_count": 79,
   "metadata": {},
   "outputs": [],
   "source": [
    "criterions = ['gini','entropy']\n",
    "n_est = list(range(5,201,5))\n",
    "min_splits = [2,4,6,8,10,14,18,20]\n",
    "\n",
    "params = {'n_estimators':n_est, 'criterion':criterions,'min_samples_split':min_splits}"
   ]
  },
  {
   "cell_type": "code",
   "execution_count": 80,
   "metadata": {},
   "outputs": [],
   "source": [
    "from sklearn.model_selection import GridSearchCV\n"
   ]
  },
  {
   "cell_type": "code",
   "execution_count": null,
   "metadata": {},
   "outputs": [],
   "source": [
    "g_model = GridSearchCV(RandomForestClassifier(), param_grid=params,verbose=3)\n",
    "g_model.fit(xtrain2,ytrain2)\n"
   ]
  },
  {
   "cell_type": "code",
   "execution_count": null,
   "metadata": {},
   "outputs": [],
   "source": [
    "g_model.best_estimator_"
   ]
  },
  {
   "cell_type": "code",
   "execution_count": null,
   "metadata": {},
   "outputs": [],
   "source": [
    "g_model.best_params_\n"
   ]
  },
  {
   "cell_type": "code",
   "execution_count": null,
   "metadata": {},
   "outputs": [],
   "source": [
    "g_model.best_estimator_.score(xtest2, ytest2)\n"
   ]
  },
  {
   "cell_type": "code",
   "execution_count": 82,
   "metadata": {},
   "outputs": [],
   "source": [
    "model_best_from_view = RandomForestClassifier(n_estimators=55, criterion='entropy',min_samples_split=20, ).fit(xtrain2,ytrain2)\n"
   ]
  },
  {
   "cell_type": "code",
   "execution_count": 83,
   "metadata": {},
   "outputs": [
    {
     "data": {
      "text/plain": [
       "0.91"
      ]
     },
     "execution_count": 83,
     "metadata": {},
     "output_type": "execute_result"
    }
   ],
   "source": [
    "model_best_from_view.score(xtest2,ytest2)\n"
   ]
  },
  {
   "cell_type": "code",
   "execution_count": 84,
   "metadata": {},
   "outputs": [
    {
     "data": {
      "text/plain": [
       "0.9266666666666666"
      ]
     },
     "execution_count": 84,
     "metadata": {},
     "output_type": "execute_result"
    }
   ],
   "source": [
    "model_best_from_view.score(xtrain2,ytrain2)\n"
   ]
  },
  {
   "cell_type": "markdown",
   "metadata": {},
   "source": [
    "### Best score was 91% with g_model {'criterion': 'gini', 'min_samples_split': 20, 'n_estimators': 55}"
   ]
  },
  {
   "cell_type": "code",
   "execution_count": null,
   "metadata": {},
   "outputs": [],
   "source": []
  }
 ],
 "metadata": {
  "kernelspec": {
   "display_name": "Python 3",
   "language": "python",
   "name": "python3"
  },
  "language_info": {
   "codemirror_mode": {
    "name": "ipython",
    "version": 3
   },
   "file_extension": ".py",
   "mimetype": "text/x-python",
   "name": "python",
   "nbconvert_exporter": "python",
   "pygments_lexer": "ipython3",
   "version": "3.8.5"
  }
 },
 "nbformat": 4,
 "nbformat_minor": 4
}
