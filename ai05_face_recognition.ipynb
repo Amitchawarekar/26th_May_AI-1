{
 "cells": [
  {
   "cell_type": "code",
   "execution_count": 1,
   "metadata": {},
   "outputs": [],
   "source": [
    "import cv2\n",
    "import pandas as pd\n",
    "import matplotlib.pyplot as plt\n",
    "from time import sleep"
   ]
  },
  {
   "cell_type": "code",
   "execution_count": 2,
   "metadata": {},
   "outputs": [],
   "source": [
    "import face_recognition as fr"
   ]
  },
  {
   "cell_type": "code",
   "execution_count": 3,
   "metadata": {},
   "outputs": [],
   "source": [
    "img = fr.load_image_file('CRISTIANO-RONALDO.jpg')\n",
    "img1 = fr.load_image_file('images.jpg')\n",
    "img2 = fr.load_image_file('virat.jpg')"
   ]
  },
  {
   "cell_type": "code",
   "execution_count": 4,
   "metadata": {},
   "outputs": [],
   "source": [
    "img_enc = fr.face_encodings(img)[0]\n",
    "img1_enc = fr.face_encodings(img1)[0]\n",
    "img2_enc = fr.face_encodings(img2)[0]"
   ]
  },
  {
   "cell_type": "code",
   "execution_count": 5,
   "metadata": {},
   "outputs": [
    {
     "data": {
      "text/plain": [
       "(128,)"
      ]
     },
     "execution_count": 5,
     "metadata": {},
     "output_type": "execute_result"
    }
   ],
   "source": [
    "img1_enc.shape"
   ]
  },
  {
   "cell_type": "code",
   "execution_count": 6,
   "metadata": {},
   "outputs": [
    {
     "data": {
      "text/plain": [
       "(128,)"
      ]
     },
     "execution_count": 6,
     "metadata": {},
     "output_type": "execute_result"
    }
   ],
   "source": [
    "img2_enc.shape"
   ]
  },
  {
   "cell_type": "code",
   "execution_count": 7,
   "metadata": {},
   "outputs": [
    {
     "data": {
      "text/plain": [
       "(128,)"
      ]
     },
     "execution_count": 7,
     "metadata": {},
     "output_type": "execute_result"
    }
   ],
   "source": [
    "img_enc.shape"
   ]
  },
  {
   "cell_type": "code",
   "execution_count": 8,
   "metadata": {},
   "outputs": [],
   "source": [
    "db_d = {'features':[img_enc,img1_enc,img2_enc],'label':['ronaldo','messi','virat']}"
   ]
  },
  {
   "cell_type": "code",
   "execution_count": 9,
   "metadata": {},
   "outputs": [],
   "source": [
    "db = pd.DataFrame(db_d)"
   ]
  },
  {
   "cell_type": "code",
   "execution_count": 10,
   "metadata": {},
   "outputs": [
    {
     "data": {
      "text/html": [
       "<div>\n",
       "<style scoped>\n",
       "    .dataframe tbody tr th:only-of-type {\n",
       "        vertical-align: middle;\n",
       "    }\n",
       "\n",
       "    .dataframe tbody tr th {\n",
       "        vertical-align: top;\n",
       "    }\n",
       "\n",
       "    .dataframe thead th {\n",
       "        text-align: right;\n",
       "    }\n",
       "</style>\n",
       "<table border=\"1\" class=\"dataframe\">\n",
       "  <thead>\n",
       "    <tr style=\"text-align: right;\">\n",
       "      <th></th>\n",
       "      <th>features</th>\n",
       "      <th>label</th>\n",
       "    </tr>\n",
       "  </thead>\n",
       "  <tbody>\n",
       "    <tr>\n",
       "      <th>0</th>\n",
       "      <td>[-0.1274901181459427, 0.10728122293949127, 0.0...</td>\n",
       "      <td>ronaldo</td>\n",
       "    </tr>\n",
       "    <tr>\n",
       "      <th>1</th>\n",
       "      <td>[-0.10831502079963684, 0.1154637560248375, -0....</td>\n",
       "      <td>messi</td>\n",
       "    </tr>\n",
       "    <tr>\n",
       "      <th>2</th>\n",
       "      <td>[-0.12742161750793457, 0.04178096354007721, 0....</td>\n",
       "      <td>virat</td>\n",
       "    </tr>\n",
       "  </tbody>\n",
       "</table>\n",
       "</div>"
      ],
      "text/plain": [
       "                                            features    label\n",
       "0  [-0.1274901181459427, 0.10728122293949127, 0.0...  ronaldo\n",
       "1  [-0.10831502079963684, 0.1154637560248375, -0....    messi\n",
       "2  [-0.12742161750793457, 0.04178096354007721, 0....    virat"
      ]
     },
     "execution_count": 10,
     "metadata": {},
     "output_type": "execute_result"
    }
   ],
   "source": [
    "db"
   ]
  },
  {
   "cell_type": "code",
   "execution_count": 11,
   "metadata": {},
   "outputs": [],
   "source": [
    "pd.to_pickle(db,'face_db.pkl')"
   ]
  },
  {
   "cell_type": "code",
   "execution_count": 12,
   "metadata": {},
   "outputs": [],
   "source": [
    "loaded_db = pd.read_pickle('face_db.pkl')"
   ]
  },
  {
   "cell_type": "code",
   "execution_count": 13,
   "metadata": {},
   "outputs": [
    {
     "data": {
      "text/html": [
       "<div>\n",
       "<style scoped>\n",
       "    .dataframe tbody tr th:only-of-type {\n",
       "        vertical-align: middle;\n",
       "    }\n",
       "\n",
       "    .dataframe tbody tr th {\n",
       "        vertical-align: top;\n",
       "    }\n",
       "\n",
       "    .dataframe thead th {\n",
       "        text-align: right;\n",
       "    }\n",
       "</style>\n",
       "<table border=\"1\" class=\"dataframe\">\n",
       "  <thead>\n",
       "    <tr style=\"text-align: right;\">\n",
       "      <th></th>\n",
       "      <th>features</th>\n",
       "      <th>label</th>\n",
       "    </tr>\n",
       "  </thead>\n",
       "  <tbody>\n",
       "    <tr>\n",
       "      <th>0</th>\n",
       "      <td>[-0.1274901181459427, 0.10728122293949127, 0.0...</td>\n",
       "      <td>ronaldo</td>\n",
       "    </tr>\n",
       "    <tr>\n",
       "      <th>1</th>\n",
       "      <td>[-0.10831502079963684, 0.1154637560248375, -0....</td>\n",
       "      <td>messi</td>\n",
       "    </tr>\n",
       "    <tr>\n",
       "      <th>2</th>\n",
       "      <td>[-0.12742161750793457, 0.04178096354007721, 0....</td>\n",
       "      <td>virat</td>\n",
       "    </tr>\n",
       "  </tbody>\n",
       "</table>\n",
       "</div>"
      ],
      "text/plain": [
       "                                            features    label\n",
       "0  [-0.1274901181459427, 0.10728122293949127, 0.0...  ronaldo\n",
       "1  [-0.10831502079963684, 0.1154637560248375, -0....    messi\n",
       "2  [-0.12742161750793457, 0.04178096354007721, 0....    virat"
      ]
     },
     "execution_count": 13,
     "metadata": {},
     "output_type": "execute_result"
    }
   ],
   "source": [
    "loaded_db"
   ]
  },
  {
   "cell_type": "code",
   "execution_count": 14,
   "metadata": {},
   "outputs": [
    {
     "data": {
      "text/plain": [
       "[array([-1.27490118e-01,  1.07281223e-01,  1.47784110e-02, -5.34118004e-02,\n",
       "        -1.28158405e-01,  7.54465982e-02,  1.03709670e-02, -1.08040825e-01,\n",
       "         1.08668104e-01,  1.93744320e-02,  2.11657271e-01, -6.72534481e-02,\n",
       "        -3.02235484e-01, -8.81663337e-02, -7.80331045e-02,  1.38542846e-01,\n",
       "        -1.57806188e-01, -1.05148688e-01, -1.65698007e-01, -7.31237233e-02,\n",
       "         2.36718524e-02, -6.54552132e-02,  1.40776513e-02,  9.64286625e-02,\n",
       "        -1.40621126e-01, -2.73355156e-01,  9.41783376e-03, -1.36136129e-01,\n",
       "         9.21549425e-02, -1.51608810e-01, -1.11526534e-01,  2.86032669e-02,\n",
       "        -1.99411884e-01, -1.27959922e-01, -2.70344578e-02,  3.69358882e-02,\n",
       "        -4.03483137e-02, -1.01098448e-01,  1.84989721e-01, -7.18417317e-02,\n",
       "        -1.57592475e-01, -8.26449506e-03,  5.20350970e-03,  2.44098768e-01,\n",
       "         2.22110316e-01,  2.48292312e-02,  6.48226142e-02, -2.59193387e-02,\n",
       "         1.76198244e-01, -2.63992429e-01,  1.37999924e-02,  1.02160573e-01,\n",
       "         1.35493621e-01,  1.53813660e-02,  1.55053865e-02, -1.69481903e-01,\n",
       "        -9.95346718e-03,  1.80470899e-01, -2.20311135e-01,  1.20057493e-01,\n",
       "         4.70175073e-02, -1.45676732e-01, -3.66880409e-02, -1.08622395e-01,\n",
       "         1.98232815e-01,  1.06845990e-01, -8.69150162e-02, -1.54855505e-01,\n",
       "         1.82421282e-01, -1.16984978e-01,  1.75531097e-02,  9.15959030e-02,\n",
       "        -9.82649848e-02, -1.76661104e-01, -2.77866244e-01,  2.14593727e-02,\n",
       "         4.11078006e-01,  2.00934768e-01, -1.69745713e-01, -2.66024843e-04,\n",
       "        -1.22493841e-01,  1.54335899e-02,  5.58681563e-02,  3.92251275e-03,\n",
       "        -1.00129195e-01,  3.46029513e-02, -1.26150638e-01,  3.62661779e-02,\n",
       "         2.00916499e-01, -6.81830198e-03, -6.35289326e-02,  2.22435579e-01,\n",
       "         7.55098648e-03, -3.48055363e-02,  5.03479056e-02,  3.99120562e-02,\n",
       "        -1.24450848e-01, -1.14902994e-03, -6.89483285e-02,  5.05454279e-03,\n",
       "         7.63972551e-02, -1.21021569e-01,  9.74604785e-02,  4.34286371e-02,\n",
       "        -1.14544414e-01,  1.17330052e-01, -7.20121935e-02,  1.02998018e-01,\n",
       "        -3.17132846e-02, -9.15365219e-02, -1.04116313e-01,  4.04363349e-02,\n",
       "         2.15416953e-01, -2.83480585e-01,  1.78812742e-01,  1.59594849e-01,\n",
       "         6.03877231e-02,  8.89169872e-02,  8.27981010e-02,  2.31777783e-03,\n",
       "         1.42237265e-02, -7.30576366e-03, -1.47550493e-01, -8.38453993e-02,\n",
       "         1.48433268e-01, -9.88654643e-02,  1.75166473e-01,  4.85683195e-02]),\n",
       " array([-0.10831502,  0.11546376, -0.02590762, -0.03675799, -0.18225655,\n",
       "         0.09863913,  0.00204005, -0.07047728,  0.10313189, -0.06274133,\n",
       "         0.23830929, -0.09587487, -0.27640685, -0.04855737, -0.08922132,\n",
       "         0.12073649, -0.1277014 , -0.08940116, -0.2078604 , -0.13872671,\n",
       "        -0.01085346,  0.01069474,  0.02377404,  0.07128135, -0.22151539,\n",
       "        -0.26631564, -0.01825186, -0.15587638,  0.07963285, -0.1086307 ,\n",
       "        -0.07869847,  0.07267965, -0.13714422, -0.09394944,  0.02504018,\n",
       "         0.03969517, -0.05615831, -0.07112767,  0.23117615, -0.0785588 ,\n",
       "        -0.14070307,  0.09830917,  0.13696891,  0.28038514,  0.14664982,\n",
       "         0.01465996,  0.03381136, -0.04698881,  0.19022104, -0.21424502,\n",
       "         0.1231681 ,  0.1475313 ,  0.24521287,  0.1129864 ,  0.05170688,\n",
       "        -0.20144461,  0.00546665,  0.21163701, -0.17613843,  0.09701452,\n",
       "         0.04723515, -0.02414685, -0.04790075, -0.09231561,  0.19977546,\n",
       "         0.18785185, -0.10678246, -0.20607093,  0.14496338, -0.12963331,\n",
       "        -0.0008363 ,  0.10316659, -0.13919701, -0.13444361, -0.19066662,\n",
       "         0.07480873,  0.29123527,  0.17599313, -0.19192451, -0.05000655,\n",
       "        -0.09124672, -0.02690814, -0.02084762,  0.01066306, -0.13297431,\n",
       "        -0.09693378, -0.07309099,  0.02173419,  0.18944257, -0.05207283,\n",
       "        -0.02586235,  0.23935148,  0.09522513, -0.08874998,  0.02274064,\n",
       "         0.02967285, -0.24702565,  0.00351488, -0.0399564 ,  0.03013166,\n",
       "         0.07190397, -0.14078006,  0.02597786,  0.040091  , -0.18905705,\n",
       "         0.20400231, -0.09034526,  0.05633873,  0.00877791, -0.03462981,\n",
       "        -0.06200181,  0.02359762,  0.21395713, -0.25113708,  0.21889247,\n",
       "         0.09343812,  0.06106417,  0.13740975,  0.13003832,  0.05536295,\n",
       "         0.04107379,  0.05297225, -0.16319492, -0.12160091,  0.12753536,\n",
       "        -0.15240219,  0.05335533,  0.05635361]),\n",
       " array([-0.12742162,  0.04178096,  0.0505983 , -0.00349692, -0.05644893,\n",
       "        -0.06894606, -0.00155596, -0.06635514,  0.13735008, -0.00613293,\n",
       "         0.14153698,  0.02042463, -0.18098512, -0.08019019, -0.0042083 ,\n",
       "         0.06439546, -0.12909789, -0.1285748 , -0.05156766, -0.07241032,\n",
       "         0.00224635,  0.04807345,  0.0760345 ,  0.08823983, -0.1401528 ,\n",
       "        -0.29139447, -0.0874765 , -0.22587596, -0.04886951, -0.17359844,\n",
       "         0.01026877,  0.01651748, -0.17616293, -0.0644432 , -0.00953114,\n",
       "         0.07164495,  0.04754871, -0.0526853 ,  0.17219666,  0.02470719,\n",
       "        -0.13759679, -0.06125391, -0.03275593,  0.32003817,  0.08299116,\n",
       "         0.00789266,  0.03021166, -0.00640161,  0.1456776 , -0.22446099,\n",
       "         0.08310515,  0.0784786 ,  0.03819476, -0.03647371,  0.05965766,\n",
       "        -0.10733666,  0.03717946,  0.05676984, -0.22375149,  0.0475645 ,\n",
       "         0.07069752, -0.00273617, -0.01758284, -0.01876302,  0.20649271,\n",
       "         0.09365088, -0.09048399, -0.07646924,  0.04287784, -0.15028115,\n",
       "         0.01622033,  0.0672971 , -0.09836072, -0.16371356, -0.23357169,\n",
       "         0.06196541,  0.45014873,  0.0484194 , -0.10518229,  0.02695102,\n",
       "        -0.19300398, -0.05254424,  0.02631862, -0.01142712, -0.0854399 ,\n",
       "         0.12062415, -0.13296787,  0.10236362,  0.19411902, -0.01220524,\n",
       "        -0.00794343,  0.15305252, -0.0423018 , -0.00693071,  0.04520552,\n",
       "         0.02809395, -0.08258857,  0.05106562, -0.05078731,  0.08740424,\n",
       "         0.03807265, -0.09634434, -0.0051106 ,  0.02393449, -0.20840256,\n",
       "         0.06226623,  0.02734283, -0.08984126, -0.04842301, -0.00997094,\n",
       "        -0.21197583, -0.07065831,  0.16289172, -0.2847681 ,  0.14033347,\n",
       "         0.14133996,  0.00889682,  0.15736701, -0.01887521,  0.03113951,\n",
       "        -0.05459865, -0.02349907, -0.11600666, -0.03138765,  0.11785789,\n",
       "         0.02777315,  0.0346713 ,  0.00435002])]"
      ]
     },
     "execution_count": 14,
     "metadata": {},
     "output_type": "execute_result"
    }
   ],
   "source": [
    "loaded_db['features'].values.tolist()"
   ]
  },
  {
   "cell_type": "code",
   "execution_count": 15,
   "metadata": {},
   "outputs": [],
   "source": [
    "newenc1 =  fr.face_encodings(fr.load_image_file('ronaldo2.jpg'))[0]"
   ]
  },
  {
   "cell_type": "code",
   "execution_count": 16,
   "metadata": {},
   "outputs": [],
   "source": [
    "res = fr.compare_faces(loaded_db['features'].values.tolist(),newenc1)"
   ]
  },
  {
   "cell_type": "code",
   "execution_count": 17,
   "metadata": {},
   "outputs": [
    {
     "data": {
      "text/plain": [
       "[True, False, False]"
      ]
     },
     "execution_count": 17,
     "metadata": {},
     "output_type": "execute_result"
    }
   ],
   "source": [
    "res"
   ]
  },
  {
   "cell_type": "code",
   "execution_count": 18,
   "metadata": {},
   "outputs": [
    {
     "data": {
      "text/plain": [
       "'ronaldo'"
      ]
     },
     "execution_count": 18,
     "metadata": {},
     "output_type": "execute_result"
    }
   ],
   "source": [
    "loaded_db['label'][res].values[0]"
   ]
  },
  {
   "cell_type": "code",
   "execution_count": 19,
   "metadata": {},
   "outputs": [],
   "source": [
    "def predict(img_name):\n",
    "    newenc1 =  fr.face_encodings(fr.load_image_file(img_name))[0]\n",
    "    res = fr.compare_faces(loaded_db['features'].values.tolist(),newenc1)\n",
    "    if sum(res):\n",
    "        return loaded_db['label'][res].values[0]\n",
    "    return 'unknown'    "
   ]
  },
  {
   "cell_type": "code",
   "execution_count": 20,
   "metadata": {},
   "outputs": [
    {
     "data": {
      "text/plain": [
       "'ronaldo'"
      ]
     },
     "execution_count": 20,
     "metadata": {},
     "output_type": "execute_result"
    }
   ],
   "source": [
    "predict('ronaldo2.jpg')"
   ]
  },
  {
   "cell_type": "code",
   "execution_count": 21,
   "metadata": {},
   "outputs": [
    {
     "data": {
      "text/plain": [
       "'messi'"
      ]
     },
     "execution_count": 21,
     "metadata": {},
     "output_type": "execute_result"
    }
   ],
   "source": [
    "predict('messi2.jpg')"
   ]
  },
  {
   "cell_type": "code",
   "execution_count": 22,
   "metadata": {},
   "outputs": [
    {
     "data": {
      "text/plain": [
       "'unknown'"
      ]
     },
     "execution_count": 22,
     "metadata": {},
     "output_type": "execute_result"
    }
   ],
   "source": [
    "predict('neymar.jpg')"
   ]
  },
  {
   "cell_type": "code",
   "execution_count": 23,
   "metadata": {},
   "outputs": [
    {
     "data": {
      "text/plain": [
       "'ronaldo'"
      ]
     },
     "execution_count": 23,
     "metadata": {},
     "output_type": "execute_result"
    }
   ],
   "source": [
    "predict('images.jpg')"
   ]
  },
  {
   "cell_type": "code",
   "execution_count": 24,
   "metadata": {},
   "outputs": [
    {
     "data": {
      "text/plain": [
       "'virat'"
      ]
     },
     "execution_count": 24,
     "metadata": {},
     "output_type": "execute_result"
    }
   ],
   "source": [
    "predict('virat.jpg')"
   ]
  },
  {
   "cell_type": "code",
   "execution_count": 25,
   "metadata": {},
   "outputs": [
    {
     "data": {
      "text/plain": [
       "'virat'"
      ]
     },
     "execution_count": 25,
     "metadata": {},
     "output_type": "execute_result"
    }
   ],
   "source": [
    "predict('virat2.jpg')"
   ]
  },
  {
   "cell_type": "code",
   "execution_count": 26,
   "metadata": {},
   "outputs": [],
   "source": [
    "h = cv2.HOGDescriptor()"
   ]
  },
  {
   "cell_type": "code",
   "execution_count": 27,
   "metadata": {},
   "outputs": [],
   "source": [
    "h.setSVMDetector(cv2.HOGDescriptor_getDefaultPeopleDetector())"
   ]
  },
  {
   "cell_type": "code",
   "execution_count": 28,
   "metadata": {},
   "outputs": [
    {
     "data": {
      "text/plain": [
       "<HOGDescriptor 00000243CB01B050>"
      ]
     },
     "execution_count": 28,
     "metadata": {},
     "output_type": "execute_result"
    }
   ],
   "source": [
    "h"
   ]
  },
  {
   "cell_type": "code",
   "execution_count": 29,
   "metadata": {},
   "outputs": [
    {
     "data": {
      "text/plain": [
       "(3781, 1)"
      ]
     },
     "execution_count": 29,
     "metadata": {},
     "output_type": "execute_result"
    }
   ],
   "source": [
    "h.svmDetector.shape"
   ]
  },
  {
   "cell_type": "code",
   "execution_count": 36,
   "metadata": {},
   "outputs": [],
   "source": [
    "ppl = cv2.imread('people2.jpg')"
   ]
  },
  {
   "cell_type": "code",
   "execution_count": 37,
   "metadata": {},
   "outputs": [],
   "source": [
    "val = h.detectMultiScale(ppl, scale=1.1, winStride=(4,4),padding=(8,8))"
   ]
  },
  {
   "cell_type": "code",
   "execution_count": 38,
   "metadata": {},
   "outputs": [
    {
     "data": {
      "text/plain": [
       "(array([[ 19,   0,  90, 173],\n",
       "        [ 45,  37,  74, 149],\n",
       "        [152,   0,  91, 177],\n",
       "        [114,   0,  82, 163],\n",
       "        [171,  64,  64, 126]], dtype=int32),\n",
       " array([[1.61633017],\n",
       "        [0.81556832],\n",
       "        [0.97948377],\n",
       "        [1.00776972],\n",
       "        [0.69136936]]))"
      ]
     },
     "execution_count": 38,
     "metadata": {},
     "output_type": "execute_result"
    }
   ],
   "source": [
    "val"
   ]
  },
  {
   "cell_type": "code",
   "execution_count": 44,
   "metadata": {},
   "outputs": [
    {
     "name": "stdout",
     "output_type": "stream",
     "text": [
      "1.6163301696069539\n",
      "0.8155683190561831\n",
      "0.9794837743393146\n",
      "1.0077697220258415\n",
      "0.6913693614769727\n"
     ]
    },
    {
     "data": {
      "text/plain": [
       "-1"
      ]
     },
     "execution_count": 44,
     "metadata": {},
     "output_type": "execute_result"
    }
   ],
   "source": [
    "ppl = cv2.imread('people2.jpg')\n",
    "h = cv2.HOGDescriptor()\n",
    "h.setSVMDetector(cv2.HOGDescriptor_getDefaultPeopleDetector())\n",
    "val = h.detectMultiScale(ppl, scale=1.1, winStride=(4,4),padding=(8,8))\n",
    "for i,(x,y,w,h) in enumerate(val[0]):\n",
    "    print(val[1][i][0])\n",
    "    if val[1][i][0] >0.9:\n",
    "        cv2.rectangle(ppl,(x,y), (x+w, y+h), (255,0,0),2)\n",
    "cv2.imshow('people',ppl)\n",
    "cv2.waitKey(0)\n",
    "        "
   ]
  },
  {
   "cell_type": "code",
   "execution_count": null,
   "metadata": {},
   "outputs": [],
   "source": []
  }
 ],
 "metadata": {
  "kernelspec": {
   "display_name": "Python 3",
   "language": "python",
   "name": "python3"
  },
  "language_info": {
   "codemirror_mode": {
    "name": "ipython",
    "version": 3
   },
   "file_extension": ".py",
   "mimetype": "text/x-python",
   "name": "python",
   "nbconvert_exporter": "python",
   "pygments_lexer": "ipython3",
   "version": "3.8.5"
  }
 },
 "nbformat": 4,
 "nbformat_minor": 4
}
