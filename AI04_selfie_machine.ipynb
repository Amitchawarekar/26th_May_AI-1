{
 "cells": [
  {
   "cell_type": "code",
   "execution_count": 1,
   "metadata": {},
   "outputs": [],
   "source": [
    "import cv2\n",
    "import skimage\n",
    "import matplotlib.pyplot as plt\n",
    "import warnings\n",
    "warnings.filterwarnings('ignore')\n",
    "from time import sleep"
   ]
  },
  {
   "cell_type": "code",
   "execution_count": 3,
   "metadata": {},
   "outputs": [],
   "source": [
    "#Selfie Machine\n",
    "# Face Recognition \n",
    "#"
   ]
  },
  {
   "cell_type": "code",
   "execution_count": 4,
   "metadata": {},
   "outputs": [],
   "source": [
    "import cv2\n",
    "\n",
    "cap = cv2.VideoCapture(0)\n",
    "fd = cv2.CascadeClassifier('Opencv/opencv-master/data/haarcascades/haarcascade_frontalface_default.xml')\n",
    "sd = cv2.CascadeClassifier('Opencv/opencv-master/data/haarcascades/haarcascade_smile.xml')\n",
    "while True:\n",
    "    r, image = cap.read()\n",
    "    if r:\n",
    "        igray = cv2.cvtColor(image, cv2.COLOR_BGR2GRAY)\n",
    "        smiles = []        \n",
    "        faces = fd.detectMultiScale(igray, 1.1, 4)\n",
    "        if len(faces):\n",
    "            for x,y,w,h in faces:\n",
    "                cv2.rectangle(image,(x,y), (x+w, y+h), (255,0,0),2)\n",
    "                cv2.imwrite('selfie.png',image[y:y+h, x:x+w,:])\n",
    "                smiles = sd.detectMultiScale(image[y:y+h, x:x+w,:],1.1,4)\n",
    "                for x1,y1,w1,h1 in smiles:\n",
    "                    cv2.rectangle(image[y:y+h, x:x+w,:],(x1,y1), (x1+w1, y1+h1), (0,0,255),2)\n",
    "                cv2.imshow('preview',image[y:y+h, x:x+w,:])\n",
    "        else:\n",
    "            cv2.imshow('preview',image)\n",
    "        k = cv2.waitKey(1) & 0xff\n",
    "        if k == 27:\n",
    "            break\n",
    "    sleep(0.1)\n",
    "cap.release()\n",
    "cv2.destroyAllWindows()"
   ]
  },
  {
   "cell_type": "code",
   "execution_count": 7,
   "metadata": {},
   "outputs": [
    {
     "name": "stdout",
     "output_type": "stream",
     "text": [
      "Requirement already satisfied: face_recognition in c:\\users\\amit\\anaconda3\\lib\\site-packages (1.3.0)\n",
      "Requirement already satisfied: Click>=6.0 in c:\\users\\amit\\anaconda3\\lib\\site-packages (from face_recognition) (7.1.2)\n",
      "Requirement already satisfied: numpy in c:\\users\\amit\\anaconda3\\lib\\site-packages (from face_recognition) (1.19.2)\n",
      "Requirement already satisfied: Pillow in c:\\users\\amit\\anaconda3\\lib\\site-packages (from face_recognition) (8.0.1)\n",
      "Requirement already satisfied: dlib>=19.7 in c:\\users\\amit\\anaconda3\\lib\\site-packages (from face_recognition) (19.19.0)\n",
      "Requirement already satisfied: face-recognition-models>=0.3.0 in c:\\users\\amit\\anaconda3\\lib\\site-packages (from face_recognition) (0.3.0)\n"
     ]
    }
   ],
   "source": [
    "!pip install face_recognition"
   ]
  },
  {
   "cell_type": "code",
   "execution_count": 8,
   "metadata": {},
   "outputs": [],
   "source": [
    "import face_recognition"
   ]
  },
  {
   "cell_type": "code",
   "execution_count": 9,
   "metadata": {},
   "outputs": [
    {
     "name": "stdout",
     "output_type": "stream",
     "text": [
      "Requirement already satisfied: dlib in c:\\users\\amit\\anaconda3\\lib\\site-packages (19.19.0)\n"
     ]
    }
   ],
   "source": [
    "!pip install dlib"
   ]
  },
  {
   "cell_type": "code",
   "execution_count": null,
   "metadata": {},
   "outputs": [],
   "source": []
  }
 ],
 "metadata": {
  "kernelspec": {
   "display_name": "Python 3",
   "language": "python",
   "name": "python3"
  },
  "language_info": {
   "codemirror_mode": {
    "name": "ipython",
    "version": 3
   },
   "file_extension": ".py",
   "mimetype": "text/x-python",
   "name": "python",
   "nbconvert_exporter": "python",
   "pygments_lexer": "ipython3",
   "version": "3.8.5"
  }
 },
 "nbformat": 4,
 "nbformat_minor": 4
}
